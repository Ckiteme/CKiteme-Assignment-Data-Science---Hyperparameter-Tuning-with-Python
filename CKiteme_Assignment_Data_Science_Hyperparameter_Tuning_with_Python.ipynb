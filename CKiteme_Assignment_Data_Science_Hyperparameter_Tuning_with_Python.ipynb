{
  "nbformat": 4,
  "nbformat_minor": 0,
  "metadata": {
    "colab": {
      "name": "CKiteme Assignment: Data Science - Hyperparameter Tuning with Python",
      "provenance": [],
      "toc_visible": true,
      "collapsed_sections": [],
      "include_colab_link": true
    },
    "kernelspec": {
      "name": "python3",
      "display_name": "Python 3"
    },
    "language_info": {
      "name": "python"
    }
  },
  "cells": [
    {
      "cell_type": "markdown",
      "metadata": {
        "id": "view-in-github",
        "colab_type": "text"
      },
      "source": [
        "<a href=\"https://colab.research.google.com/github/Ckiteme/CKiteme-Assignment-Data-Science---Hyperparameter-Tuning-with-Python/blob/main/CKiteme_Assignment_Data_Science_Hyperparameter_Tuning_with_Python.ipynb\" target=\"_parent\"><img src=\"https://colab.research.google.com/assets/colab-badge.svg\" alt=\"Open In Colab\"/></a>"
      ]
    },
    {
      "cell_type": "markdown",
      "metadata": {
        "id": "IcGUDoSkBiT4"
      },
      "source": [
        "# <font color='#2F4F4F'>1. Defining the Question</font>"
      ]
    },
    {
      "cell_type": "markdown",
      "metadata": {
        "id": "6sg3Sq-kBiT5"
      },
      "source": [
        "### a) Specifying the Data Analysis Question\n",
        "\n",
        "As a Data Scientist working for Airbnb, you have been tasked to create a model that\n",
        "predicts Airbnb rental prices for the city of Amsterdam. Popularity for Airbnbs in\n",
        "Amsterdam has grown over the past years and you are required to build a solution the\n",
        "would make optimal predictions."
      ]
    },
    {
      "cell_type": "markdown",
      "metadata": {
        "id": "54AGppS1BiT6"
      },
      "source": [
        "### b) Defining the Metric for Success\n",
        "\n",
        "The metrics we will use to evaluate our model are RMSE and R2 scores."
      ]
    },
    {
      "cell_type": "markdown",
      "metadata": {
        "id": "In67Zlg2BiT7"
      },
      "source": [
        "### c) Understanding the Context \n",
        "\n",
        "Airbnb is an American vacation rental online marketplace company based in San\n",
        "Francisco, California, United States. Airbnb offers arrangement for lodging, primarily\n",
        "homestays, or tourism experiences. The company does not own any of the real estate\n",
        "listings, nor does it host events; it acts as a broker, receiving commissions from each\n",
        "booking."
      ]
    },
    {
      "cell_type": "markdown",
      "metadata": {
        "id": "VME7R5U9BiT8"
      },
      "source": [
        "### d) Recording the Experimental Design\n",
        "\n",
        "* Defining the Research Question\n",
        "* Data Importation\n",
        "* Data Exploration\n",
        "* Data Cleaning\n",
        "* Data Analysis (Univariate and Bivariate)\n",
        "* Data Preparation\n",
        "* Data Modeling\n",
        "* Model Evaluation\n",
        "* Challenging your Solution\n",
        "* Recommendations / Conclusion "
      ]
    },
    {
      "cell_type": "markdown",
      "metadata": {
        "id": "Ox4_7p-dBiT8"
      },
      "source": [
        "### e) Data Relevance\n",
        "\n",
        "The data provided was relevant to answering the research question."
      ]
    },
    {
      "cell_type": "markdown",
      "metadata": {
        "id": "C8P0JbeUBiT9"
      },
      "source": [
        "# <font color='#2F4F4F'>2. Data Cleaning & Preparation</font>"
      ]
    },
    {
      "cell_type": "markdown",
      "source": [
        "2.1 Data Preparation"
      ],
      "metadata": {
        "id": "IBSUgOHt8SEc"
      }
    },
    {
      "cell_type": "code",
      "metadata": {
        "id": "7i0Z1TaoBiT-"
      },
      "source": [
        "# loading libraries\n",
        "import pandas as pd\n",
        "import numpy as np\n",
        "import matplotlib.pyplot as plt\n",
        "import seaborn as sns\n",
        "\n",
        "pd.set_option('display.max.columns', None)\n",
        "pd.set_option('display.max_colwidth', None)\n",
        "%matplotlib inline"
      ],
      "execution_count": 1,
      "outputs": []
    },
    {
      "cell_type": "code",
      "metadata": {
        "scrolled": true,
        "id": "hrt1AegqBiUD",
        "colab": {
          "base_uri": "https://localhost:8080/",
          "height": 398
        },
        "outputId": "87d3f246-308b-424c-9868-37cbf6e6e1c2"
      },
      "source": [
        "# loading and previewing dataset\n",
        "df = pd.read_csv('https://bit.ly/31fkomB')\n",
        "df.sample(3)"
      ],
      "execution_count": 4,
      "outputs": [
        {
          "output_type": "execute_result",
          "data": {
            "text/plain": [
              "             id                                               name    host_id  \\\n",
              "11229  21184567                           Cosy city house + garden    4593452   \n",
              "9365   18271165        Private room with bathroom near citycenter!  126310290   \n",
              "16811  36310994  Canalview apartment in the middle of the centre!!   31027570   \n",
              "\n",
              "      host_name  neighbourhood_group                           neighbourhood  \\\n",
              "11229   Evelien                  NaN  Oostelijk Havengebied - Indische Buurt   \n",
              "9365       Luuk                  NaN                 De Pijp - Rivierenbuurt   \n",
              "16811     Youri                  NaN                            Centrum-Oost   \n",
              "\n",
              "       latitude  longitude        room_type  price  minimum_nights  \\\n",
              "11229  52.36211    4.94556  Entire home/apt     85               2   \n",
              "9365   52.34066    4.90412     Private room    100               1   \n",
              "16811  52.36526    4.88299  Entire home/apt    200               1   \n",
              "\n",
              "       number_of_reviews last_review  reviews_per_month  \\\n",
              "11229                 18  2018-06-24               0.59   \n",
              "9365                   0         NaN                NaN   \n",
              "16811                 26  2020-02-26               2.81   \n",
              "\n",
              "       calculated_host_listings_count  availability_365  \n",
              "11229                               1                 0  \n",
              "9365                                1                 0  \n",
              "16811                               1                 0  "
            ],
            "text/html": [
              "\n",
              "  <div id=\"df-bf8ac196-c82e-41af-8f21-2dee6894ef05\">\n",
              "    <div class=\"colab-df-container\">\n",
              "      <div>\n",
              "<style scoped>\n",
              "    .dataframe tbody tr th:only-of-type {\n",
              "        vertical-align: middle;\n",
              "    }\n",
              "\n",
              "    .dataframe tbody tr th {\n",
              "        vertical-align: top;\n",
              "    }\n",
              "\n",
              "    .dataframe thead th {\n",
              "        text-align: right;\n",
              "    }\n",
              "</style>\n",
              "<table border=\"1\" class=\"dataframe\">\n",
              "  <thead>\n",
              "    <tr style=\"text-align: right;\">\n",
              "      <th></th>\n",
              "      <th>id</th>\n",
              "      <th>name</th>\n",
              "      <th>host_id</th>\n",
              "      <th>host_name</th>\n",
              "      <th>neighbourhood_group</th>\n",
              "      <th>neighbourhood</th>\n",
              "      <th>latitude</th>\n",
              "      <th>longitude</th>\n",
              "      <th>room_type</th>\n",
              "      <th>price</th>\n",
              "      <th>minimum_nights</th>\n",
              "      <th>number_of_reviews</th>\n",
              "      <th>last_review</th>\n",
              "      <th>reviews_per_month</th>\n",
              "      <th>calculated_host_listings_count</th>\n",
              "      <th>availability_365</th>\n",
              "    </tr>\n",
              "  </thead>\n",
              "  <tbody>\n",
              "    <tr>\n",
              "      <th>11229</th>\n",
              "      <td>21184567</td>\n",
              "      <td>Cosy city house + garden</td>\n",
              "      <td>4593452</td>\n",
              "      <td>Evelien</td>\n",
              "      <td>NaN</td>\n",
              "      <td>Oostelijk Havengebied - Indische Buurt</td>\n",
              "      <td>52.36211</td>\n",
              "      <td>4.94556</td>\n",
              "      <td>Entire home/apt</td>\n",
              "      <td>85</td>\n",
              "      <td>2</td>\n",
              "      <td>18</td>\n",
              "      <td>2018-06-24</td>\n",
              "      <td>0.59</td>\n",
              "      <td>1</td>\n",
              "      <td>0</td>\n",
              "    </tr>\n",
              "    <tr>\n",
              "      <th>9365</th>\n",
              "      <td>18271165</td>\n",
              "      <td>Private room with bathroom near citycenter!</td>\n",
              "      <td>126310290</td>\n",
              "      <td>Luuk</td>\n",
              "      <td>NaN</td>\n",
              "      <td>De Pijp - Rivierenbuurt</td>\n",
              "      <td>52.34066</td>\n",
              "      <td>4.90412</td>\n",
              "      <td>Private room</td>\n",
              "      <td>100</td>\n",
              "      <td>1</td>\n",
              "      <td>0</td>\n",
              "      <td>NaN</td>\n",
              "      <td>NaN</td>\n",
              "      <td>1</td>\n",
              "      <td>0</td>\n",
              "    </tr>\n",
              "    <tr>\n",
              "      <th>16811</th>\n",
              "      <td>36310994</td>\n",
              "      <td>Canalview apartment in the middle of the centre!!</td>\n",
              "      <td>31027570</td>\n",
              "      <td>Youri</td>\n",
              "      <td>NaN</td>\n",
              "      <td>Centrum-Oost</td>\n",
              "      <td>52.36526</td>\n",
              "      <td>4.88299</td>\n",
              "      <td>Entire home/apt</td>\n",
              "      <td>200</td>\n",
              "      <td>1</td>\n",
              "      <td>26</td>\n",
              "      <td>2020-02-26</td>\n",
              "      <td>2.81</td>\n",
              "      <td>1</td>\n",
              "      <td>0</td>\n",
              "    </tr>\n",
              "  </tbody>\n",
              "</table>\n",
              "</div>\n",
              "      <button class=\"colab-df-convert\" onclick=\"convertToInteractive('df-bf8ac196-c82e-41af-8f21-2dee6894ef05')\"\n",
              "              title=\"Convert this dataframe to an interactive table.\"\n",
              "              style=\"display:none;\">\n",
              "        \n",
              "  <svg xmlns=\"http://www.w3.org/2000/svg\" height=\"24px\"viewBox=\"0 0 24 24\"\n",
              "       width=\"24px\">\n",
              "    <path d=\"M0 0h24v24H0V0z\" fill=\"none\"/>\n",
              "    <path d=\"M18.56 5.44l.94 2.06.94-2.06 2.06-.94-2.06-.94-.94-2.06-.94 2.06-2.06.94zm-11 1L8.5 8.5l.94-2.06 2.06-.94-2.06-.94L8.5 2.5l-.94 2.06-2.06.94zm10 10l.94 2.06.94-2.06 2.06-.94-2.06-.94-.94-2.06-.94 2.06-2.06.94z\"/><path d=\"M17.41 7.96l-1.37-1.37c-.4-.4-.92-.59-1.43-.59-.52 0-1.04.2-1.43.59L10.3 9.45l-7.72 7.72c-.78.78-.78 2.05 0 2.83L4 21.41c.39.39.9.59 1.41.59.51 0 1.02-.2 1.41-.59l7.78-7.78 2.81-2.81c.8-.78.8-2.07 0-2.86zM5.41 20L4 18.59l7.72-7.72 1.47 1.35L5.41 20z\"/>\n",
              "  </svg>\n",
              "      </button>\n",
              "      \n",
              "  <style>\n",
              "    .colab-df-container {\n",
              "      display:flex;\n",
              "      flex-wrap:wrap;\n",
              "      gap: 12px;\n",
              "    }\n",
              "\n",
              "    .colab-df-convert {\n",
              "      background-color: #E8F0FE;\n",
              "      border: none;\n",
              "      border-radius: 50%;\n",
              "      cursor: pointer;\n",
              "      display: none;\n",
              "      fill: #1967D2;\n",
              "      height: 32px;\n",
              "      padding: 0 0 0 0;\n",
              "      width: 32px;\n",
              "    }\n",
              "\n",
              "    .colab-df-convert:hover {\n",
              "      background-color: #E2EBFA;\n",
              "      box-shadow: 0px 1px 2px rgba(60, 64, 67, 0.3), 0px 1px 3px 1px rgba(60, 64, 67, 0.15);\n",
              "      fill: #174EA6;\n",
              "    }\n",
              "\n",
              "    [theme=dark] .colab-df-convert {\n",
              "      background-color: #3B4455;\n",
              "      fill: #D2E3FC;\n",
              "    }\n",
              "\n",
              "    [theme=dark] .colab-df-convert:hover {\n",
              "      background-color: #434B5C;\n",
              "      box-shadow: 0px 1px 3px 1px rgba(0, 0, 0, 0.15);\n",
              "      filter: drop-shadow(0px 1px 2px rgba(0, 0, 0, 0.3));\n",
              "      fill: #FFFFFF;\n",
              "    }\n",
              "  </style>\n",
              "\n",
              "      <script>\n",
              "        const buttonEl =\n",
              "          document.querySelector('#df-bf8ac196-c82e-41af-8f21-2dee6894ef05 button.colab-df-convert');\n",
              "        buttonEl.style.display =\n",
              "          google.colab.kernel.accessAllowed ? 'block' : 'none';\n",
              "\n",
              "        async function convertToInteractive(key) {\n",
              "          const element = document.querySelector('#df-bf8ac196-c82e-41af-8f21-2dee6894ef05');\n",
              "          const dataTable =\n",
              "            await google.colab.kernel.invokeFunction('convertToInteractive',\n",
              "                                                     [key], {});\n",
              "          if (!dataTable) return;\n",
              "\n",
              "          const docLinkHtml = 'Like what you see? Visit the ' +\n",
              "            '<a target=\"_blank\" href=https://colab.research.google.com/notebooks/data_table.ipynb>data table notebook</a>'\n",
              "            + ' to learn more about interactive tables.';\n",
              "          element.innerHTML = '';\n",
              "          dataTable['output_type'] = 'display_data';\n",
              "          await google.colab.output.renderOutput(dataTable, element);\n",
              "          const docLink = document.createElement('div');\n",
              "          docLink.innerHTML = docLinkHtml;\n",
              "          element.appendChild(docLink);\n",
              "        }\n",
              "      </script>\n",
              "    </div>\n",
              "  </div>\n",
              "  "
            ]
          },
          "metadata": {},
          "execution_count": 4
        }
      ]
    },
    {
      "cell_type": "code",
      "metadata": {
        "id": "8nHmaa4tBiUL",
        "colab": {
          "base_uri": "https://localhost:8080/",
          "height": 678
        },
        "outputId": "3ca3b508-9358-4ae1-9a95-e7365ed724f9"
      },
      "source": [
        "# loading glossary\n",
        "glossary = pd.read_csv('https://bit.ly/3klxdEn', header = None)\n",
        "glossary"
      ],
      "execution_count": 6,
      "outputs": [
        {
          "output_type": "execute_result",
          "data": {
            "text/plain": [
              "                                                                                                                                                                                                                                                                                                                                                                                                                 0\n",
              "0                                                                                                                                                                                                                                                                                                                                                          room_id: A unique number identifying an Airbnb listing.\n",
              "1                                                                                                                                                                                                                                                                                                                                                             host_id: A unique number identifying an Airbnb host.\n",
              "2                                                                                                                                                                                                                                                                 neighborhood: A subregion of the city or search area for which the survey is carried out. For some cities there is no neighbourhood information.\n",
              "3                                                                                                                                                                                                                                                                                                                                           room_type: One of “Entire home/apt”, “Private room”, or “Shared room”.\n",
              "4                                                                                                                                                                                                                                                                                                                             host_response_rate: The rate at which the particular host responds to the customers.\n",
              "5                                                                                                                                                                                                                                                                                              price: The price (in $US) for a night stay. In early surveys, there may be some values that were recorded by month.\n",
              "6                                                                                                                                                                                                                                                                                                                                                     accomodates: The number of guests a listing can accommodate.\n",
              "7                                                                                                                                                                                                                                                                                                                                                             bathrooms: The number of bathrooms a listing offers.\n",
              "8                                                                                                                                                                                                                                                                                                                                                               bedrooms: The number of bedrooms a listing offers.\n",
              "9                                                                                                                                                                                                                                                                                                                                                                       beds: The number of beds a listing offers.\n",
              "10                                                                                                                                                                                                                                                                                                                                            minimum_nights: The minimum stay for a visit, as posted by the host.\n",
              "11                                                                                                                                                                                                                                                                                                                                            maximum nights: The maximum stay for a visit, as posted by the host.\n",
              "12                                                                                                                                                                                                                                                                                     overall_satisfaction: The average rating (out of five) that the listing has received from those visitors who left a review.\n",
              "13  number_of_reviews: The number of reviews that a listing has received. Airbnb has said that 70% of visits end up with a review, so the number of reviews can be used to estimate the number of visits. Note that such an estimate will not be reliable for an individual listing (especially as reviews occasionally vanish from the site), but over a city as a whole it should be a useful metric of traffic.\n",
              "14                                                                                                                                                                                                                                                                                                                                 reviews_per_month: The number of reviews that a listing has received per month.\n",
              "15                                                                                                                                                                                                                                                                                                                                              host_listings_count: The number of listings for a particular host.\n",
              "16                                                                                                                                                                                                                                                                                                                        availability_365: The number of days for which a particular host is available in a year."
            ],
            "text/html": [
              "\n",
              "  <div id=\"df-8dd1c612-6eab-4a64-bfc4-5243cfa1e49d\">\n",
              "    <div class=\"colab-df-container\">\n",
              "      <div>\n",
              "<style scoped>\n",
              "    .dataframe tbody tr th:only-of-type {\n",
              "        vertical-align: middle;\n",
              "    }\n",
              "\n",
              "    .dataframe tbody tr th {\n",
              "        vertical-align: top;\n",
              "    }\n",
              "\n",
              "    .dataframe thead th {\n",
              "        text-align: right;\n",
              "    }\n",
              "</style>\n",
              "<table border=\"1\" class=\"dataframe\">\n",
              "  <thead>\n",
              "    <tr style=\"text-align: right;\">\n",
              "      <th></th>\n",
              "      <th>0</th>\n",
              "    </tr>\n",
              "  </thead>\n",
              "  <tbody>\n",
              "    <tr>\n",
              "      <th>0</th>\n",
              "      <td>room_id: A unique number identifying an Airbnb listing.</td>\n",
              "    </tr>\n",
              "    <tr>\n",
              "      <th>1</th>\n",
              "      <td>host_id: A unique number identifying an Airbnb host.</td>\n",
              "    </tr>\n",
              "    <tr>\n",
              "      <th>2</th>\n",
              "      <td>neighborhood: A subregion of the city or search area for which the survey is carried out. For some cities there is no neighbourhood information.</td>\n",
              "    </tr>\n",
              "    <tr>\n",
              "      <th>3</th>\n",
              "      <td>room_type: One of “Entire home/apt”, “Private room”, or “Shared room”.</td>\n",
              "    </tr>\n",
              "    <tr>\n",
              "      <th>4</th>\n",
              "      <td>host_response_rate: The rate at which the particular host responds to the customers.</td>\n",
              "    </tr>\n",
              "    <tr>\n",
              "      <th>5</th>\n",
              "      <td>price: The price (in $US) for a night stay. In early surveys, there may be some values that were recorded by month.</td>\n",
              "    </tr>\n",
              "    <tr>\n",
              "      <th>6</th>\n",
              "      <td>accomodates: The number of guests a listing can accommodate.</td>\n",
              "    </tr>\n",
              "    <tr>\n",
              "      <th>7</th>\n",
              "      <td>bathrooms: The number of bathrooms a listing offers.</td>\n",
              "    </tr>\n",
              "    <tr>\n",
              "      <th>8</th>\n",
              "      <td>bedrooms: The number of bedrooms a listing offers.</td>\n",
              "    </tr>\n",
              "    <tr>\n",
              "      <th>9</th>\n",
              "      <td>beds: The number of beds a listing offers.</td>\n",
              "    </tr>\n",
              "    <tr>\n",
              "      <th>10</th>\n",
              "      <td>minimum_nights: The minimum stay for a visit, as posted by the host.</td>\n",
              "    </tr>\n",
              "    <tr>\n",
              "      <th>11</th>\n",
              "      <td>maximum nights: The maximum stay for a visit, as posted by the host.</td>\n",
              "    </tr>\n",
              "    <tr>\n",
              "      <th>12</th>\n",
              "      <td>overall_satisfaction: The average rating (out of five) that the listing has received from those visitors who left a review.</td>\n",
              "    </tr>\n",
              "    <tr>\n",
              "      <th>13</th>\n",
              "      <td>number_of_reviews: The number of reviews that a listing has received. Airbnb has said that 70% of visits end up with a review, so the number of reviews can be used to estimate the number of visits. Note that such an estimate will not be reliable for an individual listing (especially as reviews occasionally vanish from the site), but over a city as a whole it should be a useful metric of traffic.</td>\n",
              "    </tr>\n",
              "    <tr>\n",
              "      <th>14</th>\n",
              "      <td>reviews_per_month: The number of reviews that a listing has received per month.</td>\n",
              "    </tr>\n",
              "    <tr>\n",
              "      <th>15</th>\n",
              "      <td>host_listings_count: The number of listings for a particular host.</td>\n",
              "    </tr>\n",
              "    <tr>\n",
              "      <th>16</th>\n",
              "      <td>availability_365: The number of days for which a particular host is available in a year.</td>\n",
              "    </tr>\n",
              "  </tbody>\n",
              "</table>\n",
              "</div>\n",
              "      <button class=\"colab-df-convert\" onclick=\"convertToInteractive('df-8dd1c612-6eab-4a64-bfc4-5243cfa1e49d')\"\n",
              "              title=\"Convert this dataframe to an interactive table.\"\n",
              "              style=\"display:none;\">\n",
              "        \n",
              "  <svg xmlns=\"http://www.w3.org/2000/svg\" height=\"24px\"viewBox=\"0 0 24 24\"\n",
              "       width=\"24px\">\n",
              "    <path d=\"M0 0h24v24H0V0z\" fill=\"none\"/>\n",
              "    <path d=\"M18.56 5.44l.94 2.06.94-2.06 2.06-.94-2.06-.94-.94-2.06-.94 2.06-2.06.94zm-11 1L8.5 8.5l.94-2.06 2.06-.94-2.06-.94L8.5 2.5l-.94 2.06-2.06.94zm10 10l.94 2.06.94-2.06 2.06-.94-2.06-.94-.94-2.06-.94 2.06-2.06.94z\"/><path d=\"M17.41 7.96l-1.37-1.37c-.4-.4-.92-.59-1.43-.59-.52 0-1.04.2-1.43.59L10.3 9.45l-7.72 7.72c-.78.78-.78 2.05 0 2.83L4 21.41c.39.39.9.59 1.41.59.51 0 1.02-.2 1.41-.59l7.78-7.78 2.81-2.81c.8-.78.8-2.07 0-2.86zM5.41 20L4 18.59l7.72-7.72 1.47 1.35L5.41 20z\"/>\n",
              "  </svg>\n",
              "      </button>\n",
              "      \n",
              "  <style>\n",
              "    .colab-df-container {\n",
              "      display:flex;\n",
              "      flex-wrap:wrap;\n",
              "      gap: 12px;\n",
              "    }\n",
              "\n",
              "    .colab-df-convert {\n",
              "      background-color: #E8F0FE;\n",
              "      border: none;\n",
              "      border-radius: 50%;\n",
              "      cursor: pointer;\n",
              "      display: none;\n",
              "      fill: #1967D2;\n",
              "      height: 32px;\n",
              "      padding: 0 0 0 0;\n",
              "      width: 32px;\n",
              "    }\n",
              "\n",
              "    .colab-df-convert:hover {\n",
              "      background-color: #E2EBFA;\n",
              "      box-shadow: 0px 1px 2px rgba(60, 64, 67, 0.3), 0px 1px 3px 1px rgba(60, 64, 67, 0.15);\n",
              "      fill: #174EA6;\n",
              "    }\n",
              "\n",
              "    [theme=dark] .colab-df-convert {\n",
              "      background-color: #3B4455;\n",
              "      fill: #D2E3FC;\n",
              "    }\n",
              "\n",
              "    [theme=dark] .colab-df-convert:hover {\n",
              "      background-color: #434B5C;\n",
              "      box-shadow: 0px 1px 3px 1px rgba(0, 0, 0, 0.15);\n",
              "      filter: drop-shadow(0px 1px 2px rgba(0, 0, 0, 0.3));\n",
              "      fill: #FFFFFF;\n",
              "    }\n",
              "  </style>\n",
              "\n",
              "      <script>\n",
              "        const buttonEl =\n",
              "          document.querySelector('#df-8dd1c612-6eab-4a64-bfc4-5243cfa1e49d button.colab-df-convert');\n",
              "        buttonEl.style.display =\n",
              "          google.colab.kernel.accessAllowed ? 'block' : 'none';\n",
              "\n",
              "        async function convertToInteractive(key) {\n",
              "          const element = document.querySelector('#df-8dd1c612-6eab-4a64-bfc4-5243cfa1e49d');\n",
              "          const dataTable =\n",
              "            await google.colab.kernel.invokeFunction('convertToInteractive',\n",
              "                                                     [key], {});\n",
              "          if (!dataTable) return;\n",
              "\n",
              "          const docLinkHtml = 'Like what you see? Visit the ' +\n",
              "            '<a target=\"_blank\" href=https://colab.research.google.com/notebooks/data_table.ipynb>data table notebook</a>'\n",
              "            + ' to learn more about interactive tables.';\n",
              "          element.innerHTML = '';\n",
              "          dataTable['output_type'] = 'display_data';\n",
              "          await google.colab.output.renderOutput(dataTable, element);\n",
              "          const docLink = document.createElement('div');\n",
              "          docLink.innerHTML = docLinkHtml;\n",
              "          element.appendChild(docLink);\n",
              "        }\n",
              "      </script>\n",
              "    </div>\n",
              "  </div>\n",
              "  "
            ]
          },
          "metadata": {},
          "execution_count": 6
        }
      ]
    },
    {
      "cell_type": "code",
      "metadata": {
        "id": "xwI6XbOtBiUO"
      },
      "source": [
        "# dropping the 'name' variable\n",
        "df.drop(columns = ['name'], inplace = True)"
      ],
      "execution_count": 7,
      "outputs": []
    },
    {
      "cell_type": "code",
      "metadata": {
        "id": "6YLlPK34BiUS",
        "colab": {
          "base_uri": "https://localhost:8080/"
        },
        "outputId": "fdda24a1-d4fe-4519-8d85-a860d3377978"
      },
      "source": [
        "# checking dataset shape\n",
        "df.shape"
      ],
      "execution_count": 8,
      "outputs": [
        {
          "output_type": "execute_result",
          "data": {
            "text/plain": [
              "(19362, 15)"
            ]
          },
          "metadata": {},
          "execution_count": 8
        }
      ]
    },
    {
      "cell_type": "code",
      "metadata": {
        "id": "wSszt42KBiUX",
        "colab": {
          "base_uri": "https://localhost:8080/"
        },
        "outputId": "efbe3067-91fb-49c1-87f8-237dbb49e566"
      },
      "source": [
        "# checking data types\n",
        "df.dtypes"
      ],
      "execution_count": 9,
      "outputs": [
        {
          "output_type": "execute_result",
          "data": {
            "text/plain": [
              "id                                  int64\n",
              "host_id                             int64\n",
              "host_name                          object\n",
              "neighbourhood_group               float64\n",
              "neighbourhood                      object\n",
              "latitude                          float64\n",
              "longitude                         float64\n",
              "room_type                          object\n",
              "price                               int64\n",
              "minimum_nights                      int64\n",
              "number_of_reviews                   int64\n",
              "last_review                        object\n",
              "reviews_per_month                 float64\n",
              "calculated_host_listings_count      int64\n",
              "availability_365                    int64\n",
              "dtype: object"
            ]
          },
          "metadata": {},
          "execution_count": 9
        }
      ]
    },
    {
      "cell_type": "code",
      "metadata": {
        "id": "sE9Pjh1gBiUd",
        "colab": {
          "base_uri": "https://localhost:8080/"
        },
        "outputId": "6bf7f3df-7ab3-42ab-e463-78ba9eca690d"
      },
      "source": [
        "# dropping duplicates, if any\n",
        "df.drop_duplicates(inplace = True)\n",
        "df.shape"
      ],
      "execution_count": 10,
      "outputs": [
        {
          "output_type": "execute_result",
          "data": {
            "text/plain": [
              "(19362, 15)"
            ]
          },
          "metadata": {},
          "execution_count": 10
        }
      ]
    },
    {
      "cell_type": "code",
      "metadata": {
        "id": "TSntRcwDBiUg",
        "colab": {
          "base_uri": "https://localhost:8080/"
        },
        "outputId": "72ebba4f-d440-4895-ee3f-bf0ff78ee783"
      },
      "source": [
        "# checking for missing data\n",
        "df.isna().sum()"
      ],
      "execution_count": 11,
      "outputs": [
        {
          "output_type": "execute_result",
          "data": {
            "text/plain": [
              "id                                    0\n",
              "host_id                               0\n",
              "host_name                             4\n",
              "neighbourhood_group               19362\n",
              "neighbourhood                         0\n",
              "latitude                              0\n",
              "longitude                             0\n",
              "room_type                             0\n",
              "price                                 0\n",
              "minimum_nights                        0\n",
              "number_of_reviews                     0\n",
              "last_review                        2284\n",
              "reviews_per_month                  2284\n",
              "calculated_host_listings_count        0\n",
              "availability_365                      0\n",
              "dtype: int64"
            ]
          },
          "metadata": {},
          "execution_count": 11
        }
      ]
    },
    {
      "cell_type": "markdown",
      "source": [
        "Neighbourhood group has 100% missing values There are missing records for last review and reviews per month.\n",
        "\n",
        "Let us drop these columns"
      ],
      "metadata": {
        "id": "fa6Nt3xe6g4k"
      }
    },
    {
      "cell_type": "code",
      "metadata": {
        "id": "7-sCZwtIBiUj",
        "colab": {
          "base_uri": "https://localhost:8080/"
        },
        "outputId": "fc357010-d1fd-444a-ec25-03f740d9889a"
      },
      "source": [
        "# dropping the 'neighbourhood_group' variable, and the records with missing values for 'last_review'\n",
        "# and 'reviews_per_month'\n",
        "df.drop(columns = ['neighbourhood_group'], inplace = True)\n",
        "df.dropna(inplace = True)\n",
        "\n",
        "# confirming we have no null values\n",
        "df.isnull().sum()"
      ],
      "execution_count": 12,
      "outputs": [
        {
          "output_type": "execute_result",
          "data": {
            "text/plain": [
              "id                                0\n",
              "host_id                           0\n",
              "host_name                         0\n",
              "neighbourhood                     0\n",
              "latitude                          0\n",
              "longitude                         0\n",
              "room_type                         0\n",
              "price                             0\n",
              "minimum_nights                    0\n",
              "number_of_reviews                 0\n",
              "last_review                       0\n",
              "reviews_per_month                 0\n",
              "calculated_host_listings_count    0\n",
              "availability_365                  0\n",
              "dtype: int64"
            ]
          },
          "metadata": {},
          "execution_count": 12
        }
      ]
    },
    {
      "cell_type": "code",
      "metadata": {
        "id": "w0ZinlPpBiUo",
        "colab": {
          "base_uri": "https://localhost:8080/"
        },
        "outputId": "00f67ee3-1fd3-446d-b73b-c18ed2eddd94"
      },
      "source": [
        "df.shape"
      ],
      "execution_count": 13,
      "outputs": [
        {
          "output_type": "execute_result",
          "data": {
            "text/plain": [
              "(17075, 14)"
            ]
          },
          "metadata": {},
          "execution_count": 13
        }
      ]
    },
    {
      "cell_type": "markdown",
      "source": [
        "17,075 variables and 14 columns remaining"
      ],
      "metadata": {
        "id": "aNuHCXax6r9B"
      }
    },
    {
      "cell_type": "code",
      "metadata": {
        "id": "Biqt5CGbBiUs",
        "colab": {
          "base_uri": "https://localhost:8080/"
        },
        "outputId": "c1652d1a-b78c-4bd6-b298-15572c1fc175"
      },
      "source": [
        "# get the unique value of each variable to ensure there are no anomalies\n",
        "cols = df.columns.to_list()\n",
        "\n",
        "for col in cols:\n",
        "    print(\"Variable:\", col)\n",
        "    print(\"Number of unique variables:\", df[col].nunique())\n",
        "    print('First Five unique values:',df[col].unique()[:5])\n",
        "    print()"
      ],
      "execution_count": 18,
      "outputs": [
        {
          "output_type": "stream",
          "name": "stdout",
          "text": [
            "Variable: id\n",
            "Number of unique variables: 17075\n",
            "First Five unique values: [ 2818 20168 25428 27886 28871]\n",
            "\n",
            "Variable: host_id\n",
            "Number of unique variables: 15182\n",
            "First Five unique values: [  3159  59484  56142  97647 124245]\n",
            "\n",
            "Variable: host_name\n",
            "Number of unique variables: 5382\n",
            "First Five unique values: ['Daniel' 'Alexander' 'Joan' 'Flip' 'Edwin']\n",
            "\n",
            "Variable: neighbourhood\n",
            "Number of unique variables: 22\n",
            "First Five unique values: ['Oostelijk Havengebied - Indische Buurt' 'Centrum-Oost' 'Centrum-West'\n",
            " 'Zuid' 'De Pijp - Rivierenbuurt']\n",
            "\n",
            "Variable: latitude\n",
            "Number of unique variables: 5720\n",
            "First Five unique values: [52.36575 52.36509 52.37297 52.38761 52.36719]\n",
            "\n",
            "Variable: longitude\n",
            "Number of unique variables: 9193\n",
            "First Five unique values: [4.94142 4.89354 4.88339 4.89188 4.89092]\n",
            "\n",
            "Variable: room_type\n",
            "Number of unique variables: 4\n",
            "First Five unique values: ['Private room' 'Entire home/apt' 'Hotel room' 'Shared room']\n",
            "\n",
            "Variable: price\n",
            "Number of unique variables: 422\n",
            "First Five unique values: [ 59 100 125 155  75]\n",
            "\n",
            "Variable: minimum_nights\n",
            "Number of unique variables: 60\n",
            "First Five unique values: [ 3  1 14  2  4]\n",
            "\n",
            "Variable: number_of_reviews\n",
            "Number of unique variables: 422\n",
            "First Five unique values: [278 340   5 217 332]\n",
            "\n",
            "Variable: last_review\n",
            "Number of unique variables: 1590\n",
            "First Five unique values: ['2020-02-14' '2020-04-09' '2020-02-09' '2020-03-02' '2020-03-16']\n",
            "\n",
            "Variable: reviews_per_month\n",
            "Number of unique variables: 703\n",
            "First Five unique values: [2.06 2.76 0.18 2.15 2.82]\n",
            "\n",
            "Variable: calculated_host_listings_count\n",
            "Number of unique variables: 23\n",
            "First Five unique values: [1 2 3 5 9]\n",
            "\n",
            "Variable: availability_365\n",
            "Number of unique variables: 366\n",
            "First Five unique values: [169 106 132 172 210]\n",
            "\n"
          ]
        }
      ]
    },
    {
      "cell_type": "markdown",
      "source": [
        "There are no missing values\n",
        "\n",
        "For our analysis, we will check the assumptions of multiple linear regression which include:\n",
        "\n",
        "** There must be a linear relationship between the independent variables and the target variable.\n",
        "\n",
        "** Few or no outliers.\n",
        "\n",
        "** Homoscedasticity - variance of error terms must be similar across the independent variables.\n",
        "\n",
        "** All residuals must be normally distributed.\n",
        "\n",
        "** Little to no multicollinearity.\n",
        " "
      ],
      "metadata": {
        "id": "jwuGTKzp7tBz"
      }
    },
    {
      "cell_type": "markdown",
      "source": [
        "2.2 Checking linearity"
      ],
      "metadata": {
        "id": "hRlyLlEE8aiK"
      }
    },
    {
      "cell_type": "code",
      "source": [
        "numerical_train = df.select_dtypes(include = ['int','float'])\n",
        "numerical_train.head(2)\n",
        "\n",
        "null_series = numerical_train.isnull().sum()\n",
        "print(null_series.shape)\n",
        "\n",
        "full_cols_series = null_series[null_series == 0]\n",
        "print(full_cols_series.shape)"
      ],
      "metadata": {
        "colab": {
          "base_uri": "https://localhost:8080/"
        },
        "id": "PuGUblBT8eKr",
        "outputId": "66d30095-9d81-43a6-e0cb-3365fe260ad6"
      },
      "execution_count": 19,
      "outputs": [
        {
          "output_type": "stream",
          "name": "stdout",
          "text": [
            "(10,)\n",
            "(10,)\n"
          ]
        }
      ]
    },
    {
      "cell_type": "code",
      "source": [
        "df.head(1)"
      ],
      "metadata": {
        "colab": {
          "base_uri": "https://localhost:8080/",
          "height": 179
        },
        "id": "V6cwzeAP8iG6",
        "outputId": "9d88c30f-3132-4cac-845e-2e97940b331f"
      },
      "execution_count": 20,
      "outputs": [
        {
          "output_type": "execute_result",
          "data": {
            "text/plain": [
              "     id  host_id host_name                           neighbourhood  latitude  \\\n",
              "0  2818     3159    Daniel  Oostelijk Havengebied - Indische Buurt  52.36575   \n",
              "\n",
              "   longitude     room_type  price  minimum_nights  number_of_reviews  \\\n",
              "0    4.94142  Private room     59               3                278   \n",
              "\n",
              "  last_review  reviews_per_month  calculated_host_listings_count  \\\n",
              "0  2020-02-14               2.06                               1   \n",
              "\n",
              "   availability_365  \n",
              "0               169  "
            ],
            "text/html": [
              "\n",
              "  <div id=\"df-63110ecc-3f29-475a-ba40-bdf7ed9c5501\">\n",
              "    <div class=\"colab-df-container\">\n",
              "      <div>\n",
              "<style scoped>\n",
              "    .dataframe tbody tr th:only-of-type {\n",
              "        vertical-align: middle;\n",
              "    }\n",
              "\n",
              "    .dataframe tbody tr th {\n",
              "        vertical-align: top;\n",
              "    }\n",
              "\n",
              "    .dataframe thead th {\n",
              "        text-align: right;\n",
              "    }\n",
              "</style>\n",
              "<table border=\"1\" class=\"dataframe\">\n",
              "  <thead>\n",
              "    <tr style=\"text-align: right;\">\n",
              "      <th></th>\n",
              "      <th>id</th>\n",
              "      <th>host_id</th>\n",
              "      <th>host_name</th>\n",
              "      <th>neighbourhood</th>\n",
              "      <th>latitude</th>\n",
              "      <th>longitude</th>\n",
              "      <th>room_type</th>\n",
              "      <th>price</th>\n",
              "      <th>minimum_nights</th>\n",
              "      <th>number_of_reviews</th>\n",
              "      <th>last_review</th>\n",
              "      <th>reviews_per_month</th>\n",
              "      <th>calculated_host_listings_count</th>\n",
              "      <th>availability_365</th>\n",
              "    </tr>\n",
              "  </thead>\n",
              "  <tbody>\n",
              "    <tr>\n",
              "      <th>0</th>\n",
              "      <td>2818</td>\n",
              "      <td>3159</td>\n",
              "      <td>Daniel</td>\n",
              "      <td>Oostelijk Havengebied - Indische Buurt</td>\n",
              "      <td>52.36575</td>\n",
              "      <td>4.94142</td>\n",
              "      <td>Private room</td>\n",
              "      <td>59</td>\n",
              "      <td>3</td>\n",
              "      <td>278</td>\n",
              "      <td>2020-02-14</td>\n",
              "      <td>2.06</td>\n",
              "      <td>1</td>\n",
              "      <td>169</td>\n",
              "    </tr>\n",
              "  </tbody>\n",
              "</table>\n",
              "</div>\n",
              "      <button class=\"colab-df-convert\" onclick=\"convertToInteractive('df-63110ecc-3f29-475a-ba40-bdf7ed9c5501')\"\n",
              "              title=\"Convert this dataframe to an interactive table.\"\n",
              "              style=\"display:none;\">\n",
              "        \n",
              "  <svg xmlns=\"http://www.w3.org/2000/svg\" height=\"24px\"viewBox=\"0 0 24 24\"\n",
              "       width=\"24px\">\n",
              "    <path d=\"M0 0h24v24H0V0z\" fill=\"none\"/>\n",
              "    <path d=\"M18.56 5.44l.94 2.06.94-2.06 2.06-.94-2.06-.94-.94-2.06-.94 2.06-2.06.94zm-11 1L8.5 8.5l.94-2.06 2.06-.94-2.06-.94L8.5 2.5l-.94 2.06-2.06.94zm10 10l.94 2.06.94-2.06 2.06-.94-2.06-.94-.94-2.06-.94 2.06-2.06.94z\"/><path d=\"M17.41 7.96l-1.37-1.37c-.4-.4-.92-.59-1.43-.59-.52 0-1.04.2-1.43.59L10.3 9.45l-7.72 7.72c-.78.78-.78 2.05 0 2.83L4 21.41c.39.39.9.59 1.41.59.51 0 1.02-.2 1.41-.59l7.78-7.78 2.81-2.81c.8-.78.8-2.07 0-2.86zM5.41 20L4 18.59l7.72-7.72 1.47 1.35L5.41 20z\"/>\n",
              "  </svg>\n",
              "      </button>\n",
              "      \n",
              "  <style>\n",
              "    .colab-df-container {\n",
              "      display:flex;\n",
              "      flex-wrap:wrap;\n",
              "      gap: 12px;\n",
              "    }\n",
              "\n",
              "    .colab-df-convert {\n",
              "      background-color: #E8F0FE;\n",
              "      border: none;\n",
              "      border-radius: 50%;\n",
              "      cursor: pointer;\n",
              "      display: none;\n",
              "      fill: #1967D2;\n",
              "      height: 32px;\n",
              "      padding: 0 0 0 0;\n",
              "      width: 32px;\n",
              "    }\n",
              "\n",
              "    .colab-df-convert:hover {\n",
              "      background-color: #E2EBFA;\n",
              "      box-shadow: 0px 1px 2px rgba(60, 64, 67, 0.3), 0px 1px 3px 1px rgba(60, 64, 67, 0.15);\n",
              "      fill: #174EA6;\n",
              "    }\n",
              "\n",
              "    [theme=dark] .colab-df-convert {\n",
              "      background-color: #3B4455;\n",
              "      fill: #D2E3FC;\n",
              "    }\n",
              "\n",
              "    [theme=dark] .colab-df-convert:hover {\n",
              "      background-color: #434B5C;\n",
              "      box-shadow: 0px 1px 3px 1px rgba(0, 0, 0, 0.15);\n",
              "      filter: drop-shadow(0px 1px 2px rgba(0, 0, 0, 0.3));\n",
              "      fill: #FFFFFF;\n",
              "    }\n",
              "  </style>\n",
              "\n",
              "      <script>\n",
              "        const buttonEl =\n",
              "          document.querySelector('#df-63110ecc-3f29-475a-ba40-bdf7ed9c5501 button.colab-df-convert');\n",
              "        buttonEl.style.display =\n",
              "          google.colab.kernel.accessAllowed ? 'block' : 'none';\n",
              "\n",
              "        async function convertToInteractive(key) {\n",
              "          const element = document.querySelector('#df-63110ecc-3f29-475a-ba40-bdf7ed9c5501');\n",
              "          const dataTable =\n",
              "            await google.colab.kernel.invokeFunction('convertToInteractive',\n",
              "                                                     [key], {});\n",
              "          if (!dataTable) return;\n",
              "\n",
              "          const docLinkHtml = 'Like what you see? Visit the ' +\n",
              "            '<a target=\"_blank\" href=https://colab.research.google.com/notebooks/data_table.ipynb>data table notebook</a>'\n",
              "            + ' to learn more about interactive tables.';\n",
              "          element.innerHTML = '';\n",
              "          dataTable['output_type'] = 'display_data';\n",
              "          await google.colab.output.renderOutput(dataTable, element);\n",
              "          const docLink = document.createElement('div');\n",
              "          docLink.innerHTML = docLinkHtml;\n",
              "          element.appendChild(docLink);\n",
              "        }\n",
              "      </script>\n",
              "    </div>\n",
              "  </div>\n",
              "  "
            ]
          },
          "metadata": {},
          "execution_count": 20
        }
      ]
    },
    {
      "cell_type": "code",
      "source": [
        "# create list to store column names to test against 'price'\n",
        "train_subset = df[full_cols_series.index]\n",
        "\n",
        "corr = train_subset.corr()\n",
        "\n",
        "SalePrice_corr = corr ['price']\n",
        "SalePrice_corr\n",
        "\n",
        "# '''\n",
        "# Select just the Price column from the resulting data frame, compute the absolute value of each term, \n",
        "# sort the resulting Series by the correlation values, and assign to sorted_corrs.\n",
        "# '''\n",
        "\n",
        "ab = SalePrice_corr.abs()\n",
        "\n",
        "sorted_corrs = ab.sort_values(ascending=False)\n",
        "print(sorted_corrs)"
      ],
      "metadata": {
        "colab": {
          "base_uri": "https://localhost:8080/"
        },
        "id": "LXr6vK0O8lyS",
        "outputId": "f326d21f-ddff-435e-b32b-88d116c30b58"
      },
      "execution_count": 21,
      "outputs": [
        {
          "output_type": "stream",
          "name": "stdout",
          "text": [
            "price                             1.000000\n",
            "availability_365                  0.132741\n",
            "minimum_nights                    0.035343\n",
            "id                                0.025537\n",
            "calculated_host_listings_count    0.025464\n",
            "number_of_reviews                 0.024397\n",
            "latitude                          0.019567\n",
            "host_id                           0.019220\n",
            "reviews_per_month                 0.015244\n",
            "longitude                         0.013304\n",
            "Name: price, dtype: float64\n"
          ]
        }
      ]
    },
    {
      "cell_type": "markdown",
      "source": [
        "There is a low co-relationship between price and the rest of the features"
      ],
      "metadata": {
        "id": "C889LJ9r8sAq"
      }
    },
    {
      "cell_type": "markdown",
      "source": [
        "2.3 Checking for outliers"
      ],
      "metadata": {
        "id": "mg4cEz0z8z55"
      }
    },
    {
      "cell_type": "code",
      "metadata": {
        "id": "aNmLiGPFBiUv",
        "colab": {
          "base_uri": "https://localhost:8080/",
          "height": 486
        },
        "outputId": "29c3c70a-8697-4e4d-e853-f9e59e8addcb"
      },
      "source": [
        "# visualizing the distribution of outliers\n",
        "plt.figure(figsize = (15, 8))\n",
        "df.boxplot()\n",
        "plt.show()"
      ],
      "execution_count": 15,
      "outputs": [
        {
          "output_type": "display_data",
          "data": {
            "text/plain": [
              "<Figure size 1080x576 with 1 Axes>"
            ],
            "image/png": "[encoded data removed]"
          },
          "metadata": {
            "needs_background": "light"
          }
        }
      ]
    },
    {
      "cell_type": "markdown",
      "source": [
        "host_id has the most outliers in the dataset"
      ],
      "metadata": {
        "id": "y1nRH61m85J5"
      }
    },
    {
      "cell_type": "code",
      "metadata": {
        "id": "EF2ckNcZBiUx",
        "colab": {
          "base_uri": "https://localhost:8080/",
          "height": 329
        },
        "outputId": "4a3222bd-e1db-49aa-b6ee-81c8d51391ba"
      },
      "source": [
        "# getting the records with outliers\n",
        "q1 = df.quantile(0.25)\n",
        "q3 = df.quantile(0.75)\n",
        "iqr = q3 - q1\n",
        "\n",
        "outliers_df = df[((df < (q1 - 1.5 * iqr)) | (df > (q3 + 1.5 * iqr))).any(axis = 1)]\n",
        "print(outliers_df.shape)\n",
        "outliers_df.sample(3)"
      ],
      "execution_count": 16,
      "outputs": [
        {
          "output_type": "stream",
          "name": "stdout",
          "text": [
            "(8544, 14)\n"
          ]
        },
        {
          "output_type": "stream",
          "name": "stderr",
          "text": [
            "/usr/local/lib/python3.7/dist-packages/ipykernel_launcher.py:6: FutureWarning: Automatic reindexing on DataFrame vs Series comparisons is deprecated and will raise ValueError in a future version.  Do `left, right = left.align(right, axis=1, copy=False)` before e.g. `left == right`\n",
            "  \n"
          ]
        },
        {
          "output_type": "execute_result",
          "data": {
            "text/plain": [
              "             id    host_id  host_name                           neighbourhood  \\\n",
              "9730   18824672  130861436       Coen                            Centrum-West   \n",
              "15069  30551447   25066435  Christian                             Slotervaart   \n",
              "11513  21638936   52752092      Maxim  Oostelijk Havengebied - Indische Buurt   \n",
              "\n",
              "       latitude  longitude        room_type  price  minimum_nights  \\\n",
              "9730   52.36572    4.88067     Private room    108               1   \n",
              "15069  52.35538    4.84073  Entire home/apt    295               2   \n",
              "11513  52.36547    4.94213  Entire home/apt    440               2   \n",
              "\n",
              "       number_of_reviews last_review  reviews_per_month  \\\n",
              "9730                 204  2020-03-19               5.92   \n",
              "15069                  4  2020-01-05               0.26   \n",
              "11513                 10  2020-01-01               0.35   \n",
              "\n",
              "       calculated_host_listings_count  availability_365  \n",
              "9730                                1               300  \n",
              "15069                               2                 0  \n",
              "11513                               4                 0  "
            ],
            "text/html": [
              "\n",
              "  <div id=\"df-3d009bac-b0e9-41bb-b672-e114646800c7\">\n",
              "    <div class=\"colab-df-container\">\n",
              "      <div>\n",
              "<style scoped>\n",
              "    .dataframe tbody tr th:only-of-type {\n",
              "        vertical-align: middle;\n",
              "    }\n",
              "\n",
              "    .dataframe tbody tr th {\n",
              "        vertical-align: top;\n",
              "    }\n",
              "\n",
              "    .dataframe thead th {\n",
              "        text-align: right;\n",
              "    }\n",
              "</style>\n",
              "<table border=\"1\" class=\"dataframe\">\n",
              "  <thead>\n",
              "    <tr style=\"text-align: right;\">\n",
              "      <th></th>\n",
              "      <th>id</th>\n",
              "      <th>host_id</th>\n",
              "      <th>host_name</th>\n",
              "      <th>neighbourhood</th>\n",
              "      <th>latitude</th>\n",
              "      <th>longitude</th>\n",
              "      <th>room_type</th>\n",
              "      <th>price</th>\n",
              "      <th>minimum_nights</th>\n",
              "      <th>number_of_reviews</th>\n",
              "      <th>last_review</th>\n",
              "      <th>reviews_per_month</th>\n",
              "      <th>calculated_host_listings_count</th>\n",
              "      <th>availability_365</th>\n",
              "    </tr>\n",
              "  </thead>\n",
              "  <tbody>\n",
              "    <tr>\n",
              "      <th>9730</th>\n",
              "      <td>18824672</td>\n",
              "      <td>130861436</td>\n",
              "      <td>Coen</td>\n",
              "      <td>Centrum-West</td>\n",
              "      <td>52.36572</td>\n",
              "      <td>4.88067</td>\n",
              "      <td>Private room</td>\n",
              "      <td>108</td>\n",
              "      <td>1</td>\n",
              "      <td>204</td>\n",
              "      <td>2020-03-19</td>\n",
              "      <td>5.92</td>\n",
              "      <td>1</td>\n",
              "      <td>300</td>\n",
              "    </tr>\n",
              "    <tr>\n",
              "      <th>15069</th>\n",
              "      <td>30551447</td>\n",
              "      <td>25066435</td>\n",
              "      <td>Christian</td>\n",
              "      <td>Slotervaart</td>\n",
              "      <td>52.35538</td>\n",
              "      <td>4.84073</td>\n",
              "      <td>Entire home/apt</td>\n",
              "      <td>295</td>\n",
              "      <td>2</td>\n",
              "      <td>4</td>\n",
              "      <td>2020-01-05</td>\n",
              "      <td>0.26</td>\n",
              "      <td>2</td>\n",
              "      <td>0</td>\n",
              "    </tr>\n",
              "    <tr>\n",
              "      <th>11513</th>\n",
              "      <td>21638936</td>\n",
              "      <td>52752092</td>\n",
              "      <td>Maxim</td>\n",
              "      <td>Oostelijk Havengebied - Indische Buurt</td>\n",
              "      <td>52.36547</td>\n",
              "      <td>4.94213</td>\n",
              "      <td>Entire home/apt</td>\n",
              "      <td>440</td>\n",
              "      <td>2</td>\n",
              "      <td>10</td>\n",
              "      <td>2020-01-01</td>\n",
              "      <td>0.35</td>\n",
              "      <td>4</td>\n",
              "      <td>0</td>\n",
              "    </tr>\n",
              "  </tbody>\n",
              "</table>\n",
              "</div>\n",
              "      <button class=\"colab-df-convert\" onclick=\"convertToInteractive('df-3d009bac-b0e9-41bb-b672-e114646800c7')\"\n",
              "              title=\"Convert this dataframe to an interactive table.\"\n",
              "              style=\"display:none;\">\n",
              "        \n",
              "  <svg xmlns=\"http://www.w3.org/2000/svg\" height=\"24px\"viewBox=\"0 0 24 24\"\n",
              "       width=\"24px\">\n",
              "    <path d=\"M0 0h24v24H0V0z\" fill=\"none\"/>\n",
              "    <path d=\"M18.56 5.44l.94 2.06.94-2.06 2.06-.94-2.06-.94-.94-2.06-.94 2.06-2.06.94zm-11 1L8.5 8.5l.94-2.06 2.06-.94-2.06-.94L8.5 2.5l-.94 2.06-2.06.94zm10 10l.94 2.06.94-2.06 2.06-.94-2.06-.94-.94-2.06-.94 2.06-2.06.94z\"/><path d=\"M17.41 7.96l-1.37-1.37c-.4-.4-.92-.59-1.43-.59-.52 0-1.04.2-1.43.59L10.3 9.45l-7.72 7.72c-.78.78-.78 2.05 0 2.83L4 21.41c.39.39.9.59 1.41.59.51 0 1.02-.2 1.41-.59l7.78-7.78 2.81-2.81c.8-.78.8-2.07 0-2.86zM5.41 20L4 18.59l7.72-7.72 1.47 1.35L5.41 20z\"/>\n",
              "  </svg>\n",
              "      </button>\n",
              "      \n",
              "  <style>\n",
              "    .colab-df-container {\n",
              "      display:flex;\n",
              "      flex-wrap:wrap;\n",
              "      gap: 12px;\n",
              "    }\n",
              "\n",
              "    .colab-df-convert {\n",
              "      background-color: #E8F0FE;\n",
              "      border: none;\n",
              "      border-radius: 50%;\n",
              "      cursor: pointer;\n",
              "      display: none;\n",
              "      fill: #1967D2;\n",
              "      height: 32px;\n",
              "      padding: 0 0 0 0;\n",
              "      width: 32px;\n",
              "    }\n",
              "\n",
              "    .colab-df-convert:hover {\n",
              "      background-color: #E2EBFA;\n",
              "      box-shadow: 0px 1px 2px rgba(60, 64, 67, 0.3), 0px 1px 3px 1px rgba(60, 64, 67, 0.15);\n",
              "      fill: #174EA6;\n",
              "    }\n",
              "\n",
              "    [theme=dark] .colab-df-convert {\n",
              "      background-color: #3B4455;\n",
              "      fill: #D2E3FC;\n",
              "    }\n",
              "\n",
              "    [theme=dark] .colab-df-convert:hover {\n",
              "      background-color: #434B5C;\n",
              "      box-shadow: 0px 1px 3px 1px rgba(0, 0, 0, 0.15);\n",
              "      filter: drop-shadow(0px 1px 2px rgba(0, 0, 0, 0.3));\n",
              "      fill: #FFFFFF;\n",
              "    }\n",
              "  </style>\n",
              "\n",
              "      <script>\n",
              "        const buttonEl =\n",
              "          document.querySelector('#df-3d009bac-b0e9-41bb-b672-e114646800c7 button.colab-df-convert');\n",
              "        buttonEl.style.display =\n",
              "          google.colab.kernel.accessAllowed ? 'block' : 'none';\n",
              "\n",
              "        async function convertToInteractive(key) {\n",
              "          const element = document.querySelector('#df-3d009bac-b0e9-41bb-b672-e114646800c7');\n",
              "          const dataTable =\n",
              "            await google.colab.kernel.invokeFunction('convertToInteractive',\n",
              "                                                     [key], {});\n",
              "          if (!dataTable) return;\n",
              "\n",
              "          const docLinkHtml = 'Like what you see? Visit the ' +\n",
              "            '<a target=\"_blank\" href=https://colab.research.google.com/notebooks/data_table.ipynb>data table notebook</a>'\n",
              "            + ' to learn more about interactive tables.';\n",
              "          element.innerHTML = '';\n",
              "          dataTable['output_type'] = 'display_data';\n",
              "          await google.colab.output.renderOutput(dataTable, element);\n",
              "          const docLink = document.createElement('div');\n",
              "          docLink.innerHTML = docLinkHtml;\n",
              "          element.appendChild(docLink);\n",
              "        }\n",
              "      </script>\n",
              "    </div>\n",
              "  </div>\n",
              "  "
            ]
          },
          "metadata": {},
          "execution_count": 16
        }
      ]
    },
    {
      "cell_type": "code",
      "metadata": {
        "id": "rYRRRrLyBiU0",
        "colab": {
          "base_uri": "https://localhost:8080/"
        },
        "outputId": "f44baf27-abe0-4df8-e5d7-8909cf58ec7f"
      },
      "source": [
        "# calculating percentage of outliers\n",
        "round((outliers_df.shape[0] / df.shape[0]) * 100, 2)"
      ],
      "execution_count": 17,
      "outputs": [
        {
          "output_type": "execute_result",
          "data": {
            "text/plain": [
              "50.04"
            ]
          },
          "metadata": {},
          "execution_count": 17
        }
      ]
    },
    {
      "cell_type": "markdown",
      "metadata": {
        "id": "cFYNsqcNBiU4"
      },
      "source": [
        "It would be tricky to drop the records with outliers since that will reduce our dataset by half so we will leave them there. However, we will drop the host_id variable later on, right before modeling."
      ]
    },
    {
      "cell_type": "markdown",
      "source": [
        "2.4 Checking multicollinearity"
      ],
      "metadata": {
        "id": "sui87Xnm9FAK"
      }
    },
    {
      "cell_type": "code",
      "source": [
        "# checking the correlations between the numerical variables\n",
        "cor = df.corr()\n",
        "cor"
      ],
      "metadata": {
        "colab": {
          "base_uri": "https://localhost:8080/",
          "height": 427
        },
        "id": "Lmpz_uDm9HYw",
        "outputId": "47034074-bffd-4b2c-8e2f-e844bf5037ba"
      },
      "execution_count": 22,
      "outputs": [
        {
          "output_type": "execute_result",
          "data": {
            "text/plain": [
              "                                      id   host_id  latitude  longitude  \\\n",
              "id                              1.000000  0.506430 -0.009528   0.012507   \n",
              "host_id                         0.506430  1.000000 -0.011259   0.027041   \n",
              "latitude                       -0.009528 -0.011259  1.000000  -0.143365   \n",
              "longitude                       0.012507  0.027041 -0.143365   1.000000   \n",
              "price                           0.025537  0.019220  0.019567   0.013304   \n",
              "minimum_nights                 -0.029400 -0.012490 -0.017351  -0.002961   \n",
              "number_of_reviews              -0.286196 -0.107797  0.036669   0.003264   \n",
              "reviews_per_month               0.075540  0.126118  0.030088   0.012546   \n",
              "calculated_host_listings_count  0.086298  0.024235  0.022713   0.012186   \n",
              "availability_365               -0.001456  0.102491  0.040589   0.021006   \n",
              "\n",
              "                                   price  minimum_nights  number_of_reviews  \\\n",
              "id                              0.025537       -0.029400          -0.286196   \n",
              "host_id                         0.019220       -0.012490          -0.107797   \n",
              "latitude                        0.019567       -0.017351           0.036669   \n",
              "longitude                       0.013304       -0.002961           0.003264   \n",
              "price                           1.000000        0.035343          -0.024397   \n",
              "minimum_nights                  0.035343        1.000000          -0.017258   \n",
              "number_of_reviews              -0.024397       -0.017258           1.000000   \n",
              "reviews_per_month              -0.015244       -0.024594           0.738433   \n",
              "calculated_host_listings_count  0.025464       -0.007350           0.002123   \n",
              "availability_365                0.132741        0.041135           0.306629   \n",
              "\n",
              "                                reviews_per_month  \\\n",
              "id                                       0.075540   \n",
              "host_id                                  0.126118   \n",
              "latitude                                 0.030088   \n",
              "longitude                                0.012546   \n",
              "price                                   -0.015244   \n",
              "minimum_nights                          -0.024594   \n",
              "number_of_reviews                        0.738433   \n",
              "reviews_per_month                        1.000000   \n",
              "calculated_host_listings_count           0.039661   \n",
              "availability_365                         0.325249   \n",
              "\n",
              "                                calculated_host_listings_count  \\\n",
              "id                                                    0.086298   \n",
              "host_id                                               0.024235   \n",
              "latitude                                              0.022713   \n",
              "longitude                                             0.012186   \n",
              "price                                                 0.025464   \n",
              "minimum_nights                                       -0.007350   \n",
              "number_of_reviews                                     0.002123   \n",
              "reviews_per_month                                     0.039661   \n",
              "calculated_host_listings_count                        1.000000   \n",
              "availability_365                                      0.126483   \n",
              "\n",
              "                                availability_365  \n",
              "id                                     -0.001456  \n",
              "host_id                                 0.102491  \n",
              "latitude                                0.040589  \n",
              "longitude                               0.021006  \n",
              "price                                   0.132741  \n",
              "minimum_nights                          0.041135  \n",
              "number_of_reviews                       0.306629  \n",
              "reviews_per_month                       0.325249  \n",
              "calculated_host_listings_count          0.126483  \n",
              "availability_365                        1.000000  "
            ],
            "text/html": [
              "\n",
              "  <div id=\"df-cbe90bb5-bb00-49b7-b7ed-e954dba0cc4f\">\n",
              "    <div class=\"colab-df-container\">\n",
              "      <div>\n",
              "<style scoped>\n",
              "    .dataframe tbody tr th:only-of-type {\n",
              "        vertical-align: middle;\n",
              "    }\n",
              "\n",
              "    .dataframe tbody tr th {\n",
              "        vertical-align: top;\n",
              "    }\n",
              "\n",
              "    .dataframe thead th {\n",
              "        text-align: right;\n",
              "    }\n",
              "</style>\n",
              "<table border=\"1\" class=\"dataframe\">\n",
              "  <thead>\n",
              "    <tr style=\"text-align: right;\">\n",
              "      <th></th>\n",
              "      <th>id</th>\n",
              "      <th>host_id</th>\n",
              "      <th>latitude</th>\n",
              "      <th>longitude</th>\n",
              "      <th>price</th>\n",
              "      <th>minimum_nights</th>\n",
              "      <th>number_of_reviews</th>\n",
              "      <th>reviews_per_month</th>\n",
              "      <th>calculated_host_listings_count</th>\n",
              "      <th>availability_365</th>\n",
              "    </tr>\n",
              "  </thead>\n",
              "  <tbody>\n",
              "    <tr>\n",
              "      <th>id</th>\n",
              "      <td>1.000000</td>\n",
              "      <td>0.506430</td>\n",
              "      <td>-0.009528</td>\n",
              "      <td>0.012507</td>\n",
              "      <td>0.025537</td>\n",
              "      <td>-0.029400</td>\n",
              "      <td>-0.286196</td>\n",
              "      <td>0.075540</td>\n",
              "      <td>0.086298</td>\n",
              "      <td>-0.001456</td>\n",
              "    </tr>\n",
              "    <tr>\n",
              "      <th>host_id</th>\n",
              "      <td>0.506430</td>\n",
              "      <td>1.000000</td>\n",
              "      <td>-0.011259</td>\n",
              "      <td>0.027041</td>\n",
              "      <td>0.019220</td>\n",
              "      <td>-0.012490</td>\n",
              "      <td>-0.107797</td>\n",
              "      <td>0.126118</td>\n",
              "      <td>0.024235</td>\n",
              "      <td>0.102491</td>\n",
              "    </tr>\n",
              "    <tr>\n",
              "      <th>latitude</th>\n",
              "      <td>-0.009528</td>\n",
              "      <td>-0.011259</td>\n",
              "      <td>1.000000</td>\n",
              "      <td>-0.143365</td>\n",
              "      <td>0.019567</td>\n",
              "      <td>-0.017351</td>\n",
              "      <td>0.036669</td>\n",
              "      <td>0.030088</td>\n",
              "      <td>0.022713</td>\n",
              "      <td>0.040589</td>\n",
              "    </tr>\n",
              "    <tr>\n",
              "      <th>longitude</th>\n",
              "      <td>0.012507</td>\n",
              "      <td>0.027041</td>\n",
              "      <td>-0.143365</td>\n",
              "      <td>1.000000</td>\n",
              "      <td>0.013304</td>\n",
              "      <td>-0.002961</td>\n",
              "      <td>0.003264</td>\n",
              "      <td>0.012546</td>\n",
              "      <td>0.012186</td>\n",
              "      <td>0.021006</td>\n",
              "    </tr>\n",
              "    <tr>\n",
              "      <th>price</th>\n",
              "      <td>0.025537</td>\n",
              "      <td>0.019220</td>\n",
              "      <td>0.019567</td>\n",
              "      <td>0.013304</td>\n",
              "      <td>1.000000</td>\n",
              "      <td>0.035343</td>\n",
              "      <td>-0.024397</td>\n",
              "      <td>-0.015244</td>\n",
              "      <td>0.025464</td>\n",
              "      <td>0.132741</td>\n",
              "    </tr>\n",
              "    <tr>\n",
              "      <th>minimum_nights</th>\n",
              "      <td>-0.029400</td>\n",
              "      <td>-0.012490</td>\n",
              "      <td>-0.017351</td>\n",
              "      <td>-0.002961</td>\n",
              "      <td>0.035343</td>\n",
              "      <td>1.000000</td>\n",
              "      <td>-0.017258</td>\n",
              "      <td>-0.024594</td>\n",
              "      <td>-0.007350</td>\n",
              "      <td>0.041135</td>\n",
              "    </tr>\n",
              "    <tr>\n",
              "      <th>number_of_reviews</th>\n",
              "      <td>-0.286196</td>\n",
              "      <td>-0.107797</td>\n",
              "      <td>0.036669</td>\n",
              "      <td>0.003264</td>\n",
              "      <td>-0.024397</td>\n",
              "      <td>-0.017258</td>\n",
              "      <td>1.000000</td>\n",
              "      <td>0.738433</td>\n",
              "      <td>0.002123</td>\n",
              "      <td>0.306629</td>\n",
              "    </tr>\n",
              "    <tr>\n",
              "      <th>reviews_per_month</th>\n",
              "      <td>0.075540</td>\n",
              "      <td>0.126118</td>\n",
              "      <td>0.030088</td>\n",
              "      <td>0.012546</td>\n",
              "      <td>-0.015244</td>\n",
              "      <td>-0.024594</td>\n",
              "      <td>0.738433</td>\n",
              "      <td>1.000000</td>\n",
              "      <td>0.039661</td>\n",
              "      <td>0.325249</td>\n",
              "    </tr>\n",
              "    <tr>\n",
              "      <th>calculated_host_listings_count</th>\n",
              "      <td>0.086298</td>\n",
              "      <td>0.024235</td>\n",
              "      <td>0.022713</td>\n",
              "      <td>0.012186</td>\n",
              "      <td>0.025464</td>\n",
              "      <td>-0.007350</td>\n",
              "      <td>0.002123</td>\n",
              "      <td>0.039661</td>\n",
              "      <td>1.000000</td>\n",
              "      <td>0.126483</td>\n",
              "    </tr>\n",
              "    <tr>\n",
              "      <th>availability_365</th>\n",
              "      <td>-0.001456</td>\n",
              "      <td>0.102491</td>\n",
              "      <td>0.040589</td>\n",
              "      <td>0.021006</td>\n",
              "      <td>0.132741</td>\n",
              "      <td>0.041135</td>\n",
              "      <td>0.306629</td>\n",
              "      <td>0.325249</td>\n",
              "      <td>0.126483</td>\n",
              "      <td>1.000000</td>\n",
              "    </tr>\n",
              "  </tbody>\n",
              "</table>\n",
              "</div>\n",
              "      <button class=\"colab-df-convert\" onclick=\"convertToInteractive('df-cbe90bb5-bb00-49b7-b7ed-e954dba0cc4f')\"\n",
              "              title=\"Convert this dataframe to an interactive table.\"\n",
              "              style=\"display:none;\">\n",
              "        \n",
              "  <svg xmlns=\"http://www.w3.org/2000/svg\" height=\"24px\"viewBox=\"0 0 24 24\"\n",
              "       width=\"24px\">\n",
              "    <path d=\"M0 0h24v24H0V0z\" fill=\"none\"/>\n",
              "    <path d=\"M18.56 5.44l.94 2.06.94-2.06 2.06-.94-2.06-.94-.94-2.06-.94 2.06-2.06.94zm-11 1L8.5 8.5l.94-2.06 2.06-.94-2.06-.94L8.5 2.5l-.94 2.06-2.06.94zm10 10l.94 2.06.94-2.06 2.06-.94-2.06-.94-.94-2.06-.94 2.06-2.06.94z\"/><path d=\"M17.41 7.96l-1.37-1.37c-.4-.4-.92-.59-1.43-.59-.52 0-1.04.2-1.43.59L10.3 9.45l-7.72 7.72c-.78.78-.78 2.05 0 2.83L4 21.41c.39.39.9.59 1.41.59.51 0 1.02-.2 1.41-.59l7.78-7.78 2.81-2.81c.8-.78.8-2.07 0-2.86zM5.41 20L4 18.59l7.72-7.72 1.47 1.35L5.41 20z\"/>\n",
              "  </svg>\n",
              "      </button>\n",
              "      \n",
              "  <style>\n",
              "    .colab-df-container {\n",
              "      display:flex;\n",
              "      flex-wrap:wrap;\n",
              "      gap: 12px;\n",
              "    }\n",
              "\n",
              "    .colab-df-convert {\n",
              "      background-color: #E8F0FE;\n",
              "      border: none;\n",
              "      border-radius: 50%;\n",
              "      cursor: pointer;\n",
              "      display: none;\n",
              "      fill: #1967D2;\n",
              "      height: 32px;\n",
              "      padding: 0 0 0 0;\n",
              "      width: 32px;\n",
              "    }\n",
              "\n",
              "    .colab-df-convert:hover {\n",
              "      background-color: #E2EBFA;\n",
              "      box-shadow: 0px 1px 2px rgba(60, 64, 67, 0.3), 0px 1px 3px 1px rgba(60, 64, 67, 0.15);\n",
              "      fill: #174EA6;\n",
              "    }\n",
              "\n",
              "    [theme=dark] .colab-df-convert {\n",
              "      background-color: #3B4455;\n",
              "      fill: #D2E3FC;\n",
              "    }\n",
              "\n",
              "    [theme=dark] .colab-df-convert:hover {\n",
              "      background-color: #434B5C;\n",
              "      box-shadow: 0px 1px 3px 1px rgba(0, 0, 0, 0.15);\n",
              "      filter: drop-shadow(0px 1px 2px rgba(0, 0, 0, 0.3));\n",
              "      fill: #FFFFFF;\n",
              "    }\n",
              "  </style>\n",
              "\n",
              "      <script>\n",
              "        const buttonEl =\n",
              "          document.querySelector('#df-cbe90bb5-bb00-49b7-b7ed-e954dba0cc4f button.colab-df-convert');\n",
              "        buttonEl.style.display =\n",
              "          google.colab.kernel.accessAllowed ? 'block' : 'none';\n",
              "\n",
              "        async function convertToInteractive(key) {\n",
              "          const element = document.querySelector('#df-cbe90bb5-bb00-49b7-b7ed-e954dba0cc4f');\n",
              "          const dataTable =\n",
              "            await google.colab.kernel.invokeFunction('convertToInteractive',\n",
              "                                                     [key], {});\n",
              "          if (!dataTable) return;\n",
              "\n",
              "          const docLinkHtml = 'Like what you see? Visit the ' +\n",
              "            '<a target=\"_blank\" href=https://colab.research.google.com/notebooks/data_table.ipynb>data table notebook</a>'\n",
              "            + ' to learn more about interactive tables.';\n",
              "          element.innerHTML = '';\n",
              "          dataTable['output_type'] = 'display_data';\n",
              "          await google.colab.output.renderOutput(dataTable, element);\n",
              "          const docLink = document.createElement('div');\n",
              "          docLink.innerHTML = docLinkHtml;\n",
              "          element.appendChild(docLink);\n",
              "        }\n",
              "      </script>\n",
              "    </div>\n",
              "  </div>\n",
              "  "
            ]
          },
          "metadata": {},
          "execution_count": 22
        }
      ]
    },
    {
      "cell_type": "code",
      "source": [
        "# plotting the correlations onto a heatmap\n",
        "plt.figure(figsize=(12,10))\n",
        "cor = df.corr()\n",
        "sns.heatmap(cor, annot=True, cmap=plt.cm.Reds)\n",
        "plt.show()"
      ],
      "metadata": {
        "colab": {
          "base_uri": "https://localhost:8080/",
          "height": 738
        },
        "id": "tXz1XLhj9Lgb",
        "outputId": "cc7a8bfd-dd50-496b-98c7-705795e440b5"
      },
      "execution_count": 23,
      "outputs": [
        {
          "output_type": "display_data",
          "data": {
            "text/plain": [
              "<Figure size 864x720 with 2 Axes>"
            ],
            "image/png": "[encoded data removed]"
          },
          "metadata": {
            "needs_background": "light"
          }
        }
      ]
    },
    {
      "cell_type": "markdown",
      "source": [
        "** Reviews per month and number of reviews are strongly correlated hence will drop reviews per month\n",
        "\n",
        "**The rest of the variables are not strongly correlated hence we will not drop any other columns"
      ],
      "metadata": {
        "id": "I4Toa1b49Qib"
      }
    },
    {
      "cell_type": "code",
      "source": [
        "df.drop(columns = ['reviews_per_month'], inplace = True)"
      ],
      "metadata": {
        "id": "ZdDaPV_f9aQx"
      },
      "execution_count": null,
      "outputs": []
    },
    {
      "cell_type": "code",
      "source": [
        "df.shape"
      ],
      "metadata": {
        "colab": {
          "base_uri": "https://localhost:8080/"
        },
        "id": "bMwnWC8t9bt6",
        "outputId": "24e5996e-fa39-49c6-f798-fe8bc7b8061e"
      },
      "execution_count": 25,
      "outputs": [
        {
          "output_type": "execute_result",
          "data": {
            "text/plain": [
              "(17075, 13)"
            ]
          },
          "metadata": {},
          "execution_count": 25
        }
      ]
    },
    {
      "cell_type": "code",
      "source": [
        "# check VIF scores\n",
        "\n",
        "features = numerical_train.drop(['price'], axis =1 )\n",
        "features\n",
        "\n",
        "unit_train = features/(features.max())\n",
        "sorted_vars = unit_train.var().sort_values(ascending = False)\n",
        "print(sorted_vars)"
      ],
      "metadata": {
        "colab": {
          "base_uri": "https://localhost:8080/"
        },
        "id": "WI8mVxgD9ovZ",
        "outputId": "45cf2856-09d3-42c7-da79-b5907b9b954b"
      },
      "execution_count": 27,
      "outputs": [
        {
          "output_type": "stream",
          "name": "stdout",
          "text": [
            "availability_365                  7.320372e-02\n",
            "id                                7.170868e-02\n",
            "host_id                           4.744645e-02\n",
            "calculated_host_listings_count    8.246591e-03\n",
            "number_of_reviews                 4.525346e-03\n",
            "reviews_per_month                 5.226424e-04\n",
            "minimum_nights                    2.436060e-04\n",
            "longitude                         5.022745e-05\n",
            "latitude                          9.661556e-08\n",
            "dtype: float64\n"
          ]
        }
      ]
    },
    {
      "cell_type": "markdown",
      "source": [
        "There is no any VIF score of above 5, which means our dataset does not have high levels of multicollinearity."
      ],
      "metadata": {
        "id": "0pBJqvFM-Exp"
      }
    },
    {
      "cell_type": "markdown",
      "metadata": {
        "id": "UFT-K1wQBiU5"
      },
      "source": [
        "# <font color='#2F4F4F'>3. Data Analysis</font>"
      ]
    },
    {
      "cell_type": "markdown",
      "metadata": {
        "id": "T3ugplNYBiU5"
      },
      "source": [
        "## 3.1 Univariate Analysis "
      ]
    },
    {
      "cell_type": "code",
      "metadata": {
        "id": "hMJPsYX_BiU6",
        "colab": {
          "base_uri": "https://localhost:8080/",
          "height": 390
        },
        "outputId": "8853d4f6-a85a-450b-9d97-189c7b9243ae"
      },
      "source": [
        "# getting the top 10 most common hosts\n",
        "plt.figure(figsize = (10, 6))\n",
        "df.host_name.value_counts()[:10].plot(kind = 'bar', rot = 0)\n",
        "plt.title(\"Top 10 Hosts\")\n",
        "plt.show()"
      ],
      "execution_count": 28,
      "outputs": [
        {
          "output_type": "display_data",
          "data": {
            "text/plain": [
              "<Figure size 720x432 with 1 Axes>"
            ],
            "image/png": "[encoded data removed]"
          },
          "metadata": {
            "needs_background": "light"
          }
        }
      ]
    },
    {
      "cell_type": "markdown",
      "source": [
        "The top host is Martijin"
      ],
      "metadata": {
        "id": "jVAOqmn1-UmE"
      }
    },
    {
      "cell_type": "code",
      "metadata": {
        "id": "T_NepL5vBiU9",
        "colab": {
          "base_uri": "https://localhost:8080/",
          "height": 472
        },
        "outputId": "836a2ebe-a1e9-445a-c656-3bd54d1bd8dc"
      },
      "source": [
        "# getting the top 10 most common neighbourhoods\n",
        "plt.figure(figsize = (10, 6))\n",
        "df.neighbourhood.value_counts()[:10].plot(kind = 'bar', rot = 25)\n",
        "plt.xticks(ha = \"right\")\n",
        "plt.title(\"Top 10 Neighbourhoods\")\n",
        "plt.show()"
      ],
      "execution_count": 29,
      "outputs": [
        {
          "output_type": "display_data",
          "data": {
            "text/plain": [
              "<Figure size 720x432 with 1 Axes>"
            ],
            "image/png": "[encoded data removed]"
          },
          "metadata": {
            "needs_background": "light"
          }
        }
      ]
    },
    {
      "cell_type": "markdown",
      "source": [
        "The top neighbourhood is De Baarsjes"
      ],
      "metadata": {
        "id": "auI9-cB4-YUG"
      }
    },
    {
      "cell_type": "code",
      "metadata": {
        "id": "336tKm-eBiVB",
        "colab": {
          "base_uri": "https://localhost:8080/"
        },
        "outputId": "870df82b-4a33-4706-d7f5-25c7a33f729a"
      },
      "source": [
        "df.room_type.value_counts()"
      ],
      "execution_count": 30,
      "outputs": [
        {
          "output_type": "execute_result",
          "data": {
            "text/plain": [
              "Entire home/apt    13308\n",
              "Private room        3497\n",
              "Hotel room           232\n",
              "Shared room           38\n",
              "Name: room_type, dtype: int64"
            ]
          },
          "metadata": {},
          "execution_count": 30
        }
      ]
    },
    {
      "cell_type": "markdown",
      "source": [
        "Most rented room type is the entire home or apartment"
      ],
      "metadata": {
        "id": "5o1o87u2-bEu"
      }
    },
    {
      "cell_type": "code",
      "metadata": {
        "id": "KLmzCtedBiVE",
        "colab": {
          "base_uri": "https://localhost:8080/",
          "height": 357
        },
        "outputId": "517c8b98-39f4-4856-bcb1-034ed9a3cc7c"
      },
      "source": [
        "# getting the most common room types\n",
        "plt.figure(figsize = (6, 6))\n",
        "labels = ['Entire home/apt', 'Private room', 'Hotel room', 'Shared room']\n",
        "df.room_type.value_counts().plot(kind = 'pie', autopct = '%0.1f%%', labels = labels)\n",
        "plt.show()"
      ],
      "execution_count": 31,
      "outputs": [
        {
          "output_type": "display_data",
          "data": {
            "text/plain": [
              "<Figure size 432x432 with 1 Axes>"
            ],
            "image/png": "[encoded data removed]"
          },
          "metadata": {}
        }
      ]
    },
    {
      "cell_type": "code",
      "metadata": {
        "id": "ffYLNxWmBiVI",
        "colab": {
          "base_uri": "https://localhost:8080/",
          "height": 336
        },
        "outputId": "174d1c2d-07fc-48ce-fc12-24dd5c7205f0"
      },
      "source": [
        "# distribution of price\n",
        "plt.figure(figsize = (10,4))\n",
        "sns.distplot(df['price'])\n",
        "plt.show()"
      ],
      "execution_count": 32,
      "outputs": [
        {
          "output_type": "stream",
          "name": "stderr",
          "text": [
            "/usr/local/lib/python3.7/dist-packages/seaborn/distributions.py:2619: FutureWarning: `distplot` is a deprecated function and will be removed in a future version. Please adapt your code to use either `displot` (a figure-level function with similar flexibility) or `histplot` (an axes-level function for histograms).\n",
            "  warnings.warn(msg, FutureWarning)\n"
          ]
        },
        {
          "output_type": "display_data",
          "data": {
            "text/plain": [
              "<Figure size 720x288 with 1 Axes>"
            ],
            "image/png": "[encoded data removed]"
          },
          "metadata": {
            "needs_background": "light"
          }
        }
      ]
    },
    {
      "cell_type": "markdown",
      "source": [
        "Price paid for rooms mostly lies below 2000\n"
      ],
      "metadata": {
        "id": "EF3eKiDn-jg5"
      }
    },
    {
      "cell_type": "code",
      "metadata": {
        "id": "Y_YnBZ0RBiVL",
        "colab": {
          "base_uri": "https://localhost:8080/",
          "height": 320
        },
        "outputId": "a7a331e8-90e5-43f4-c704-3970ac667543"
      },
      "source": [
        "# getting the top 10 most common minimum number of nights to spend\n",
        "plt.figure(figsize = (10, 5))\n",
        "df.minimum_nights.value_counts()[:10].plot(kind = 'bar', rot = 0)\n",
        "plt.show()"
      ],
      "execution_count": 33,
      "outputs": [
        {
          "output_type": "display_data",
          "data": {
            "text/plain": [
              "<Figure size 720x360 with 1 Axes>"
            ],
            "image/png": "[encoded data removed]"
          },
          "metadata": {
            "needs_background": "light"
          }
        }
      ]
    },
    {
      "cell_type": "markdown",
      "source": [
        "most customers spend 2 nights"
      ],
      "metadata": {
        "id": "SvmXYLFB-yFA"
      }
    },
    {
      "cell_type": "markdown",
      "metadata": {
        "id": "OeZUEETkBiVO"
      },
      "source": [
        "## 3.2 Bivariate Analysis"
      ]
    },
    {
      "cell_type": "code",
      "metadata": {
        "id": "ONWbn9UqBiVP",
        "colab": {
          "base_uri": "https://localhost:8080/",
          "height": 388
        },
        "outputId": "7852dd85-5d98-4995-921a-eac986e09a92"
      },
      "source": [
        "# price by room type\n",
        "df.hist('price', by = 'room_type', rot = 0, figsize = (10, 6))\n",
        "plt.show()"
      ],
      "execution_count": 34,
      "outputs": [
        {
          "output_type": "display_data",
          "data": {
            "text/plain": [
              "<Figure size 720x432 with 4 Axes>"
            ],
            "image/png": "[encoded data removed]"
          },
          "metadata": {
            "needs_background": "light"
          }
        }
      ]
    },
    {
      "cell_type": "markdown",
      "source": [
        "** Hotel and shared rooms have a wider distribution of their prices"
      ],
      "metadata": {
        "id": "9ZaKwGf--5GQ"
      }
    },
    {
      "cell_type": "code",
      "metadata": {
        "id": "1_r0mB2YBiVT",
        "colab": {
          "base_uri": "https://localhost:8080/"
        },
        "outputId": "510b2719-204c-4e95-a404-3bd9210d4731"
      },
      "source": [
        "# average price by neighbourhood\n",
        "df.groupby('neighbourhood')['price'].mean().sort_values(ascending = False)"
      ],
      "execution_count": 35,
      "outputs": [
        {
          "output_type": "execute_result",
          "data": {
            "text/plain": [
              "neighbourhood\n",
              "Centrum-West                              203.653397\n",
              "Centrum-Oost                              190.534247\n",
              "Zuid                                      178.813243\n",
              "Oud-Noord                                 168.763566\n",
              "De Pijp - Rivierenbuurt                   166.601787\n",
              "IJburg - Zeeburgereiland                  157.723077\n",
              "Westerpark                                151.241140\n",
              "De Baarsjes - Oud-West                    149.376228\n",
              "Oud-Oost                                  144.606957\n",
              "Watergraafsmeer                           141.199125\n",
              "Buitenveldert - Zuidas                    137.690355\n",
              "Oostelijk Havengebied - Indische Buurt    135.101163\n",
              "Noord-Oost                                130.495833\n",
              "Noord-West                                126.318885\n",
              "Bos en Lommer                             122.525304\n",
              "De Aker - Nieuw Sloten                    121.268908\n",
              "Slotervaart                               119.791549\n",
              "Geuzenveld - Slotermeer                   113.937143\n",
              "Osdorp                                    103.418182\n",
              "Gaasperdam - Driemond                      96.317757\n",
              "Bijlmer-Centrum                            91.434343\n",
              "Bijlmer-Oost                               89.696629\n",
              "Name: price, dtype: float64"
            ]
          },
          "metadata": {},
          "execution_count": 35
        }
      ]
    },
    {
      "cell_type": "markdown",
      "source": [
        "# Centrum-west is highest priced neighbourhood while Biljmer-Oost is the chepeast neighborhood"
      ],
      "metadata": {
        "id": "cxRoPL12_CJ4"
      }
    },
    {
      "cell_type": "code",
      "metadata": {
        "id": "icZWqXs3BiVd",
        "colab": {
          "base_uri": "https://localhost:8080/"
        },
        "outputId": "278c6fd8-6070-45ea-bf98-ac81b2cd63ea"
      },
      "source": [
        "# average price by neighbourhood\n",
        "df.groupby('minimum_nights')['price'].mean().sort_values(ascending = False)"
      ],
      "execution_count": 36,
      "outputs": [
        {
          "output_type": "execute_result",
          "data": {
            "text/plain": [
              "minimum_nights\n",
              "365     3000.000000\n",
              "99       999.000000\n",
              "200      999.000000\n",
              "52       429.000000\n",
              "30       331.551020\n",
              "222      300.000000\n",
              "27       275.000000\n",
              "48       250.000000\n",
              "31       243.750000\n",
              "150      203.000000\n",
              "21       201.761905\n",
              "15       197.888889\n",
              "1000     185.000000\n",
              "240      180.000000\n",
              "28       175.900000\n",
              "7        174.760526\n",
              "300      170.500000\n",
              "180      169.250000\n",
              "3        166.936544\n",
              "14       163.476923\n",
              "38       159.000000\n",
              "4        158.828311\n",
              "45       157.500000\n",
              "5        155.676190\n",
              "1        154.149670\n",
              "60       152.071429\n",
              "2        151.557365\n",
              "24       150.000000\n",
              "22       150.000000\n",
              "6        146.276923\n",
              "59       146.250000\n",
              "40       139.000000\n",
              "9        136.250000\n",
              "41       131.000000\n",
              "20       130.185185\n",
              "1001     130.000000\n",
              "16       129.666667\n",
              "100      127.000000\n",
              "90       126.250000\n",
              "10       125.709677\n",
              "18       125.000000\n",
              "8        120.730769\n",
              "29       120.000000\n",
              "999      120.000000\n",
              "25       118.555556\n",
              "12       118.083333\n",
              "500      110.000000\n",
              "50       110.000000\n",
              "17       109.500000\n",
              "95       105.000000\n",
              "13       104.750000\n",
              "120      104.500000\n",
              "186      100.000000\n",
              "37        95.000000\n",
              "19        93.000000\n",
              "70        90.000000\n",
              "23        89.000000\n",
              "11        83.333333\n",
              "89        77.000000\n",
              "35        45.000000\n",
              "Name: price, dtype: float64"
            ]
          },
          "metadata": {},
          "execution_count": 36
        }
      ]
    },
    {
      "cell_type": "markdown",
      "metadata": {
        "id": "RAMIxPNBBiVh"
      },
      "source": [
        "## 3.3 Feature Engineering"
      ]
    },
    {
      "cell_type": "code",
      "metadata": {
        "id": "amDK304_BiVi",
        "colab": {
          "base_uri": "https://localhost:8080/",
          "height": 374
        },
        "outputId": "0753a3fe-01be-4279-866f-1cf7d51a1e15"
      },
      "source": [
        "# getting the average price per room type\n",
        "\n",
        "avg_price_per_room = df.groupby('room_type')['price'].mean().to_dict()\n",
        "\n",
        "# adding to our dataset\n",
        "\n",
        "df['avg_price_per_room'] = df['room_type'].map(avg_price_per_room)\n",
        "\n",
        "# previewing our modified dataset\n",
        "\n",
        "df.head()"
      ],
      "execution_count": 39,
      "outputs": [
        {
          "output_type": "execute_result",
          "data": {
            "text/plain": [
              "      id  host_id  host_name                           neighbourhood  \\\n",
              "0   2818     3159     Daniel  Oostelijk Havengebied - Indische Buurt   \n",
              "1  20168    59484  Alexander                            Centrum-Oost   \n",
              "2  25428    56142       Joan                            Centrum-West   \n",
              "3  27886    97647       Flip                            Centrum-West   \n",
              "4  28871   124245      Edwin                            Centrum-West   \n",
              "\n",
              "   latitude  longitude        room_type  price  minimum_nights  \\\n",
              "0  52.36575    4.94142     Private room     59               3   \n",
              "1  52.36509    4.89354     Private room    100               1   \n",
              "2  52.37297    4.88339  Entire home/apt    125              14   \n",
              "3  52.38761    4.89188     Private room    155               2   \n",
              "4  52.36719    4.89092     Private room     75               2   \n",
              "\n",
              "   number_of_reviews last_review  calculated_host_listings_count  \\\n",
              "0                278  2020-02-14                               1   \n",
              "1                340  2020-04-09                               2   \n",
              "2                  5  2020-02-09                               1   \n",
              "3                217  2020-03-02                               1   \n",
              "4                332  2020-03-16                               3   \n",
              "\n",
              "   availability_365  avg_price_per_room  \n",
              "0               169          109.421504  \n",
              "1               106          109.421504  \n",
              "2               132          169.179967  \n",
              "3               172          109.421504  \n",
              "4               210          109.421504  "
            ],
            "text/html": [
              "\n",
              "  <div id=\"df-1a08585d-7440-4c08-814e-03628d570c16\">\n",
              "    <div class=\"colab-df-container\">\n",
              "      <div>\n",
              "<style scoped>\n",
              "    .dataframe tbody tr th:only-of-type {\n",
              "        vertical-align: middle;\n",
              "    }\n",
              "\n",
              "    .dataframe tbody tr th {\n",
              "        vertical-align: top;\n",
              "    }\n",
              "\n",
              "    .dataframe thead th {\n",
              "        text-align: right;\n",
              "    }\n",
              "</style>\n",
              "<table border=\"1\" class=\"dataframe\">\n",
              "  <thead>\n",
              "    <tr style=\"text-align: right;\">\n",
              "      <th></th>\n",
              "      <th>id</th>\n",
              "      <th>host_id</th>\n",
              "      <th>host_name</th>\n",
              "      <th>neighbourhood</th>\n",
              "      <th>latitude</th>\n",
              "      <th>longitude</th>\n",
              "      <th>room_type</th>\n",
              "      <th>price</th>\n",
              "      <th>minimum_nights</th>\n",
              "      <th>number_of_reviews</th>\n",
              "      <th>last_review</th>\n",
              "      <th>calculated_host_listings_count</th>\n",
              "      <th>availability_365</th>\n",
              "      <th>avg_price_per_room</th>\n",
              "    </tr>\n",
              "  </thead>\n",
              "  <tbody>\n",
              "    <tr>\n",
              "      <th>0</th>\n",
              "      <td>2818</td>\n",
              "      <td>3159</td>\n",
              "      <td>Daniel</td>\n",
              "      <td>Oostelijk Havengebied - Indische Buurt</td>\n",
              "      <td>52.36575</td>\n",
              "      <td>4.94142</td>\n",
              "      <td>Private room</td>\n",
              "      <td>59</td>\n",
              "      <td>3</td>\n",
              "      <td>278</td>\n",
              "      <td>2020-02-14</td>\n",
              "      <td>1</td>\n",
              "      <td>169</td>\n",
              "      <td>109.421504</td>\n",
              "    </tr>\n",
              "    <tr>\n",
              "      <th>1</th>\n",
              "      <td>20168</td>\n",
              "      <td>59484</td>\n",
              "      <td>Alexander</td>\n",
              "      <td>Centrum-Oost</td>\n",
              "      <td>52.36509</td>\n",
              "      <td>4.89354</td>\n",
              "      <td>Private room</td>\n",
              "      <td>100</td>\n",
              "      <td>1</td>\n",
              "      <td>340</td>\n",
              "      <td>2020-04-09</td>\n",
              "      <td>2</td>\n",
              "      <td>106</td>\n",
              "      <td>109.421504</td>\n",
              "    </tr>\n",
              "    <tr>\n",
              "      <th>2</th>\n",
              "      <td>25428</td>\n",
              "      <td>56142</td>\n",
              "      <td>Joan</td>\n",
              "      <td>Centrum-West</td>\n",
              "      <td>52.37297</td>\n",
              "      <td>4.88339</td>\n",
              "      <td>Entire home/apt</td>\n",
              "      <td>125</td>\n",
              "      <td>14</td>\n",
              "      <td>5</td>\n",
              "      <td>2020-02-09</td>\n",
              "      <td>1</td>\n",
              "      <td>132</td>\n",
              "      <td>169.179967</td>\n",
              "    </tr>\n",
              "    <tr>\n",
              "      <th>3</th>\n",
              "      <td>27886</td>\n",
              "      <td>97647</td>\n",
              "      <td>Flip</td>\n",
              "      <td>Centrum-West</td>\n",
              "      <td>52.38761</td>\n",
              "      <td>4.89188</td>\n",
              "      <td>Private room</td>\n",
              "      <td>155</td>\n",
              "      <td>2</td>\n",
              "      <td>217</td>\n",
              "      <td>2020-03-02</td>\n",
              "      <td>1</td>\n",
              "      <td>172</td>\n",
              "      <td>109.421504</td>\n",
              "    </tr>\n",
              "    <tr>\n",
              "      <th>4</th>\n",
              "      <td>28871</td>\n",
              "      <td>124245</td>\n",
              "      <td>Edwin</td>\n",
              "      <td>Centrum-West</td>\n",
              "      <td>52.36719</td>\n",
              "      <td>4.89092</td>\n",
              "      <td>Private room</td>\n",
              "      <td>75</td>\n",
              "      <td>2</td>\n",
              "      <td>332</td>\n",
              "      <td>2020-03-16</td>\n",
              "      <td>3</td>\n",
              "      <td>210</td>\n",
              "      <td>109.421504</td>\n",
              "    </tr>\n",
              "  </tbody>\n",
              "</table>\n",
              "</div>\n",
              "      <button class=\"colab-df-convert\" onclick=\"convertToInteractive('df-1a08585d-7440-4c08-814e-03628d570c16')\"\n",
              "              title=\"Convert this dataframe to an interactive table.\"\n",
              "              style=\"display:none;\">\n",
              "        \n",
              "  <svg xmlns=\"http://www.w3.org/2000/svg\" height=\"24px\"viewBox=\"0 0 24 24\"\n",
              "       width=\"24px\">\n",
              "    <path d=\"M0 0h24v24H0V0z\" fill=\"none\"/>\n",
              "    <path d=\"M18.56 5.44l.94 2.06.94-2.06 2.06-.94-2.06-.94-.94-2.06-.94 2.06-2.06.94zm-11 1L8.5 8.5l.94-2.06 2.06-.94-2.06-.94L8.5 2.5l-.94 2.06-2.06.94zm10 10l.94 2.06.94-2.06 2.06-.94-2.06-.94-.94-2.06-.94 2.06-2.06.94z\"/><path d=\"M17.41 7.96l-1.37-1.37c-.4-.4-.92-.59-1.43-.59-.52 0-1.04.2-1.43.59L10.3 9.45l-7.72 7.72c-.78.78-.78 2.05 0 2.83L4 21.41c.39.39.9.59 1.41.59.51 0 1.02-.2 1.41-.59l7.78-7.78 2.81-2.81c.8-.78.8-2.07 0-2.86zM5.41 20L4 18.59l7.72-7.72 1.47 1.35L5.41 20z\"/>\n",
              "  </svg>\n",
              "      </button>\n",
              "      \n",
              "  <style>\n",
              "    .colab-df-container {\n",
              "      display:flex;\n",
              "      flex-wrap:wrap;\n",
              "      gap: 12px;\n",
              "    }\n",
              "\n",
              "    .colab-df-convert {\n",
              "      background-color: #E8F0FE;\n",
              "      border: none;\n",
              "      border-radius: 50%;\n",
              "      cursor: pointer;\n",
              "      display: none;\n",
              "      fill: #1967D2;\n",
              "      height: 32px;\n",
              "      padding: 0 0 0 0;\n",
              "      width: 32px;\n",
              "    }\n",
              "\n",
              "    .colab-df-convert:hover {\n",
              "      background-color: #E2EBFA;\n",
              "      box-shadow: 0px 1px 2px rgba(60, 64, 67, 0.3), 0px 1px 3px 1px rgba(60, 64, 67, 0.15);\n",
              "      fill: #174EA6;\n",
              "    }\n",
              "\n",
              "    [theme=dark] .colab-df-convert {\n",
              "      background-color: #3B4455;\n",
              "      fill: #D2E3FC;\n",
              "    }\n",
              "\n",
              "    [theme=dark] .colab-df-convert:hover {\n",
              "      background-color: #434B5C;\n",
              "      box-shadow: 0px 1px 3px 1px rgba(0, 0, 0, 0.15);\n",
              "      filter: drop-shadow(0px 1px 2px rgba(0, 0, 0, 0.3));\n",
              "      fill: #FFFFFF;\n",
              "    }\n",
              "  </style>\n",
              "\n",
              "      <script>\n",
              "        const buttonEl =\n",
              "          document.querySelector('#df-1a08585d-7440-4c08-814e-03628d570c16 button.colab-df-convert');\n",
              "        buttonEl.style.display =\n",
              "          google.colab.kernel.accessAllowed ? 'block' : 'none';\n",
              "\n",
              "        async function convertToInteractive(key) {\n",
              "          const element = document.querySelector('#df-1a08585d-7440-4c08-814e-03628d570c16');\n",
              "          const dataTable =\n",
              "            await google.colab.kernel.invokeFunction('convertToInteractive',\n",
              "                                                     [key], {});\n",
              "          if (!dataTable) return;\n",
              "\n",
              "          const docLinkHtml = 'Like what you see? Visit the ' +\n",
              "            '<a target=\"_blank\" href=https://colab.research.google.com/notebooks/data_table.ipynb>data table notebook</a>'\n",
              "            + ' to learn more about interactive tables.';\n",
              "          element.innerHTML = '';\n",
              "          dataTable['output_type'] = 'display_data';\n",
              "          await google.colab.output.renderOutput(dataTable, element);\n",
              "          const docLink = document.createElement('div');\n",
              "          docLink.innerHTML = docLinkHtml;\n",
              "          element.appendChild(docLink);\n",
              "        }\n",
              "      </script>\n",
              "    </div>\n",
              "  </div>\n",
              "  "
            ]
          },
          "metadata": {},
          "execution_count": 39
        }
      ]
    },
    {
      "cell_type": "code",
      "metadata": {
        "id": "6DxMshHtBiVm",
        "colab": {
          "base_uri": "https://localhost:8080/",
          "height": 374
        },
        "outputId": "13c8ac93-161a-4fde-bf4b-4ab57e16bb5a"
      },
      "source": [
        "# getting the average price per neighbourhood\n",
        "\n",
        "avg_price_per_neighbourhood = df.groupby('neighbourhood').price.transform('mean')\n",
        "\n",
        "# adding to our dataset\n",
        "\n",
        "df['avg_price_per_neighbourhood'] = avg_price_per_neighbourhood\n",
        "\n",
        "# previewing our modified dataset\n",
        "\n",
        "df.head()"
      ],
      "execution_count": 40,
      "outputs": [
        {
          "output_type": "execute_result",
          "data": {
            "text/plain": [
              "      id  host_id  host_name                           neighbourhood  \\\n",
              "0   2818     3159     Daniel  Oostelijk Havengebied - Indische Buurt   \n",
              "1  20168    59484  Alexander                            Centrum-Oost   \n",
              "2  25428    56142       Joan                            Centrum-West   \n",
              "3  27886    97647       Flip                            Centrum-West   \n",
              "4  28871   124245      Edwin                            Centrum-West   \n",
              "\n",
              "   latitude  longitude        room_type  price  minimum_nights  \\\n",
              "0  52.36575    4.94142     Private room     59               3   \n",
              "1  52.36509    4.89354     Private room    100               1   \n",
              "2  52.37297    4.88339  Entire home/apt    125              14   \n",
              "3  52.38761    4.89188     Private room    155               2   \n",
              "4  52.36719    4.89092     Private room     75               2   \n",
              "\n",
              "   number_of_reviews last_review  calculated_host_listings_count  \\\n",
              "0                278  2020-02-14                               1   \n",
              "1                340  2020-04-09                               2   \n",
              "2                  5  2020-02-09                               1   \n",
              "3                217  2020-03-02                               1   \n",
              "4                332  2020-03-16                               3   \n",
              "\n",
              "   availability_365  avg_price_per_room  avg_price_per_neighbourhood  \n",
              "0               169          109.421504                   135.101163  \n",
              "1               106          109.421504                   190.534247  \n",
              "2               132          169.179967                   203.653397  \n",
              "3               172          109.421504                   203.653397  \n",
              "4               210          109.421504                   203.653397  "
            ],
            "text/html": [
              "\n",
              "  <div id=\"df-0ab3a00a-d69a-44f4-9078-2d1d6c99cb4d\">\n",
              "    <div class=\"colab-df-container\">\n",
              "      <div>\n",
              "<style scoped>\n",
              "    .dataframe tbody tr th:only-of-type {\n",
              "        vertical-align: middle;\n",
              "    }\n",
              "\n",
              "    .dataframe tbody tr th {\n",
              "        vertical-align: top;\n",
              "    }\n",
              "\n",
              "    .dataframe thead th {\n",
              "        text-align: right;\n",
              "    }\n",
              "</style>\n",
              "<table border=\"1\" class=\"dataframe\">\n",
              "  <thead>\n",
              "    <tr style=\"text-align: right;\">\n",
              "      <th></th>\n",
              "      <th>id</th>\n",
              "      <th>host_id</th>\n",
              "      <th>host_name</th>\n",
              "      <th>neighbourhood</th>\n",
              "      <th>latitude</th>\n",
              "      <th>longitude</th>\n",
              "      <th>room_type</th>\n",
              "      <th>price</th>\n",
              "      <th>minimum_nights</th>\n",
              "      <th>number_of_reviews</th>\n",
              "      <th>last_review</th>\n",
              "      <th>calculated_host_listings_count</th>\n",
              "      <th>availability_365</th>\n",
              "      <th>avg_price_per_room</th>\n",
              "      <th>avg_price_per_neighbourhood</th>\n",
              "    </tr>\n",
              "  </thead>\n",
              "  <tbody>\n",
              "    <tr>\n",
              "      <th>0</th>\n",
              "      <td>2818</td>\n",
              "      <td>3159</td>\n",
              "      <td>Daniel</td>\n",
              "      <td>Oostelijk Havengebied - Indische Buurt</td>\n",
              "      <td>52.36575</td>\n",
              "      <td>4.94142</td>\n",
              "      <td>Private room</td>\n",
              "      <td>59</td>\n",
              "      <td>3</td>\n",
              "      <td>278</td>\n",
              "      <td>2020-02-14</td>\n",
              "      <td>1</td>\n",
              "      <td>169</td>\n",
              "      <td>109.421504</td>\n",
              "      <td>135.101163</td>\n",
              "    </tr>\n",
              "    <tr>\n",
              "      <th>1</th>\n",
              "      <td>20168</td>\n",
              "      <td>59484</td>\n",
              "      <td>Alexander</td>\n",
              "      <td>Centrum-Oost</td>\n",
              "      <td>52.36509</td>\n",
              "      <td>4.89354</td>\n",
              "      <td>Private room</td>\n",
              "      <td>100</td>\n",
              "      <td>1</td>\n",
              "      <td>340</td>\n",
              "      <td>2020-04-09</td>\n",
              "      <td>2</td>\n",
              "      <td>106</td>\n",
              "      <td>109.421504</td>\n",
              "      <td>190.534247</td>\n",
              "    </tr>\n",
              "    <tr>\n",
              "      <th>2</th>\n",
              "      <td>25428</td>\n",
              "      <td>56142</td>\n",
              "      <td>Joan</td>\n",
              "      <td>Centrum-West</td>\n",
              "      <td>52.37297</td>\n",
              "      <td>4.88339</td>\n",
              "      <td>Entire home/apt</td>\n",
              "      <td>125</td>\n",
              "      <td>14</td>\n",
              "      <td>5</td>\n",
              "      <td>2020-02-09</td>\n",
              "      <td>1</td>\n",
              "      <td>132</td>\n",
              "      <td>169.179967</td>\n",
              "      <td>203.653397</td>\n",
              "    </tr>\n",
              "    <tr>\n",
              "      <th>3</th>\n",
              "      <td>27886</td>\n",
              "      <td>97647</td>\n",
              "      <td>Flip</td>\n",
              "      <td>Centrum-West</td>\n",
              "      <td>52.38761</td>\n",
              "      <td>4.89188</td>\n",
              "      <td>Private room</td>\n",
              "      <td>155</td>\n",
              "      <td>2</td>\n",
              "      <td>217</td>\n",
              "      <td>2020-03-02</td>\n",
              "      <td>1</td>\n",
              "      <td>172</td>\n",
              "      <td>109.421504</td>\n",
              "      <td>203.653397</td>\n",
              "    </tr>\n",
              "    <tr>\n",
              "      <th>4</th>\n",
              "      <td>28871</td>\n",
              "      <td>124245</td>\n",
              "      <td>Edwin</td>\n",
              "      <td>Centrum-West</td>\n",
              "      <td>52.36719</td>\n",
              "      <td>4.89092</td>\n",
              "      <td>Private room</td>\n",
              "      <td>75</td>\n",
              "      <td>2</td>\n",
              "      <td>332</td>\n",
              "      <td>2020-03-16</td>\n",
              "      <td>3</td>\n",
              "      <td>210</td>\n",
              "      <td>109.421504</td>\n",
              "      <td>203.653397</td>\n",
              "    </tr>\n",
              "  </tbody>\n",
              "</table>\n",
              "</div>\n",
              "      <button class=\"colab-df-convert\" onclick=\"convertToInteractive('df-0ab3a00a-d69a-44f4-9078-2d1d6c99cb4d')\"\n",
              "              title=\"Convert this dataframe to an interactive table.\"\n",
              "              style=\"display:none;\">\n",
              "        \n",
              "  <svg xmlns=\"http://www.w3.org/2000/svg\" height=\"24px\"viewBox=\"0 0 24 24\"\n",
              "       width=\"24px\">\n",
              "    <path d=\"M0 0h24v24H0V0z\" fill=\"none\"/>\n",
              "    <path d=\"M18.56 5.44l.94 2.06.94-2.06 2.06-.94-2.06-.94-.94-2.06-.94 2.06-2.06.94zm-11 1L8.5 8.5l.94-2.06 2.06-.94-2.06-.94L8.5 2.5l-.94 2.06-2.06.94zm10 10l.94 2.06.94-2.06 2.06-.94-2.06-.94-.94-2.06-.94 2.06-2.06.94z\"/><path d=\"M17.41 7.96l-1.37-1.37c-.4-.4-.92-.59-1.43-.59-.52 0-1.04.2-1.43.59L10.3 9.45l-7.72 7.72c-.78.78-.78 2.05 0 2.83L4 21.41c.39.39.9.59 1.41.59.51 0 1.02-.2 1.41-.59l7.78-7.78 2.81-2.81c.8-.78.8-2.07 0-2.86zM5.41 20L4 18.59l7.72-7.72 1.47 1.35L5.41 20z\"/>\n",
              "  </svg>\n",
              "      </button>\n",
              "      \n",
              "  <style>\n",
              "    .colab-df-container {\n",
              "      display:flex;\n",
              "      flex-wrap:wrap;\n",
              "      gap: 12px;\n",
              "    }\n",
              "\n",
              "    .colab-df-convert {\n",
              "      background-color: #E8F0FE;\n",
              "      border: none;\n",
              "      border-radius: 50%;\n",
              "      cursor: pointer;\n",
              "      display: none;\n",
              "      fill: #1967D2;\n",
              "      height: 32px;\n",
              "      padding: 0 0 0 0;\n",
              "      width: 32px;\n",
              "    }\n",
              "\n",
              "    .colab-df-convert:hover {\n",
              "      background-color: #E2EBFA;\n",
              "      box-shadow: 0px 1px 2px rgba(60, 64, 67, 0.3), 0px 1px 3px 1px rgba(60, 64, 67, 0.15);\n",
              "      fill: #174EA6;\n",
              "    }\n",
              "\n",
              "    [theme=dark] .colab-df-convert {\n",
              "      background-color: #3B4455;\n",
              "      fill: #D2E3FC;\n",
              "    }\n",
              "\n",
              "    [theme=dark] .colab-df-convert:hover {\n",
              "      background-color: #434B5C;\n",
              "      box-shadow: 0px 1px 3px 1px rgba(0, 0, 0, 0.15);\n",
              "      filter: drop-shadow(0px 1px 2px rgba(0, 0, 0, 0.3));\n",
              "      fill: #FFFFFF;\n",
              "    }\n",
              "  </style>\n",
              "\n",
              "      <script>\n",
              "        const buttonEl =\n",
              "          document.querySelector('#df-0ab3a00a-d69a-44f4-9078-2d1d6c99cb4d button.colab-df-convert');\n",
              "        buttonEl.style.display =\n",
              "          google.colab.kernel.accessAllowed ? 'block' : 'none';\n",
              "\n",
              "        async function convertToInteractive(key) {\n",
              "          const element = document.querySelector('#df-0ab3a00a-d69a-44f4-9078-2d1d6c99cb4d');\n",
              "          const dataTable =\n",
              "            await google.colab.kernel.invokeFunction('convertToInteractive',\n",
              "                                                     [key], {});\n",
              "          if (!dataTable) return;\n",
              "\n",
              "          const docLinkHtml = 'Like what you see? Visit the ' +\n",
              "            '<a target=\"_blank\" href=https://colab.research.google.com/notebooks/data_table.ipynb>data table notebook</a>'\n",
              "            + ' to learn more about interactive tables.';\n",
              "          element.innerHTML = '';\n",
              "          dataTable['output_type'] = 'display_data';\n",
              "          await google.colab.output.renderOutput(dataTable, element);\n",
              "          const docLink = document.createElement('div');\n",
              "          docLink.innerHTML = docLinkHtml;\n",
              "          element.appendChild(docLink);\n",
              "        }\n",
              "      </script>\n",
              "    </div>\n",
              "  </div>\n",
              "  "
            ]
          },
          "metadata": {},
          "execution_count": 40
        }
      ]
    },
    {
      "cell_type": "code",
      "metadata": {
        "id": "5cE9g8rHBiVp",
        "colab": {
          "base_uri": "https://localhost:8080/"
        },
        "outputId": "7b95083c-d707-49ed-c0cd-ce6485f3ddbb"
      },
      "source": [
        "# encoding 'room_type'\n",
        "# YOUR CODE HERE\n",
        "# trying nominal encoding\n",
        "# sort the dictionary of average price per room type based on values\n",
        "sorted(avg_price_per_room.items(), key=lambda x: x[1])"
      ],
      "execution_count": 41,
      "outputs": [
        {
          "output_type": "execute_result",
          "data": {
            "text/plain": [
              "[('Private room', 109.42150414641121),\n",
              " ('Shared room', 123.0),\n",
              " ('Entire home/apt', 169.17996693718064),\n",
              " ('Hotel room', 245.85344827586206)]"
            ]
          },
          "metadata": {},
          "execution_count": 41
        }
      ]
    },
    {
      "cell_type": "code",
      "metadata": {
        "id": "ZQkBcgN9BiVr",
        "colab": {
          "base_uri": "https://localhost:8080/",
          "height": 374
        },
        "outputId": "50c17515-8ce4-4792-b6e2-db0a6dd0ad31"
      },
      "source": [
        "\n",
        "# assign the numbers based on the average values\n",
        "room_type_map = {'Private room':1,'Shared room':2,'Entire home/apt':3,'Hotel room':4}\n",
        "\n",
        "# create a new column in the dataframe\n",
        "df['room_type_encode'] = df['room_type'].map(room_type_map)\n",
        "df.head()"
      ],
      "execution_count": 42,
      "outputs": [
        {
          "output_type": "execute_result",
          "data": {
            "text/plain": [
              "      id  host_id  host_name                           neighbourhood  \\\n",
              "0   2818     3159     Daniel  Oostelijk Havengebied - Indische Buurt   \n",
              "1  20168    59484  Alexander                            Centrum-Oost   \n",
              "2  25428    56142       Joan                            Centrum-West   \n",
              "3  27886    97647       Flip                            Centrum-West   \n",
              "4  28871   124245      Edwin                            Centrum-West   \n",
              "\n",
              "   latitude  longitude        room_type  price  minimum_nights  \\\n",
              "0  52.36575    4.94142     Private room     59               3   \n",
              "1  52.36509    4.89354     Private room    100               1   \n",
              "2  52.37297    4.88339  Entire home/apt    125              14   \n",
              "3  52.38761    4.89188     Private room    155               2   \n",
              "4  52.36719    4.89092     Private room     75               2   \n",
              "\n",
              "   number_of_reviews last_review  calculated_host_listings_count  \\\n",
              "0                278  2020-02-14                               1   \n",
              "1                340  2020-04-09                               2   \n",
              "2                  5  2020-02-09                               1   \n",
              "3                217  2020-03-02                               1   \n",
              "4                332  2020-03-16                               3   \n",
              "\n",
              "   availability_365  avg_price_per_room  avg_price_per_neighbourhood  \\\n",
              "0               169          109.421504                   135.101163   \n",
              "1               106          109.421504                   190.534247   \n",
              "2               132          169.179967                   203.653397   \n",
              "3               172          109.421504                   203.653397   \n",
              "4               210          109.421504                   203.653397   \n",
              "\n",
              "   room_type_encode  \n",
              "0                 1  \n",
              "1                 1  \n",
              "2                 3  \n",
              "3                 1  \n",
              "4                 1  "
            ],
            "text/html": [
              "\n",
              "  <div id=\"df-0cc4c5a8-56eb-4fa0-81f9-a0c52de6fb5c\">\n",
              "    <div class=\"colab-df-container\">\n",
              "      <div>\n",
              "<style scoped>\n",
              "    .dataframe tbody tr th:only-of-type {\n",
              "        vertical-align: middle;\n",
              "    }\n",
              "\n",
              "    .dataframe tbody tr th {\n",
              "        vertical-align: top;\n",
              "    }\n",
              "\n",
              "    .dataframe thead th {\n",
              "        text-align: right;\n",
              "    }\n",
              "</style>\n",
              "<table border=\"1\" class=\"dataframe\">\n",
              "  <thead>\n",
              "    <tr style=\"text-align: right;\">\n",
              "      <th></th>\n",
              "      <th>id</th>\n",
              "      <th>host_id</th>\n",
              "      <th>host_name</th>\n",
              "      <th>neighbourhood</th>\n",
              "      <th>latitude</th>\n",
              "      <th>longitude</th>\n",
              "      <th>room_type</th>\n",
              "      <th>price</th>\n",
              "      <th>minimum_nights</th>\n",
              "      <th>number_of_reviews</th>\n",
              "      <th>last_review</th>\n",
              "      <th>calculated_host_listings_count</th>\n",
              "      <th>availability_365</th>\n",
              "      <th>avg_price_per_room</th>\n",
              "      <th>avg_price_per_neighbourhood</th>\n",
              "      <th>room_type_encode</th>\n",
              "    </tr>\n",
              "  </thead>\n",
              "  <tbody>\n",
              "    <tr>\n",
              "      <th>0</th>\n",
              "      <td>2818</td>\n",
              "      <td>3159</td>\n",
              "      <td>Daniel</td>\n",
              "      <td>Oostelijk Havengebied - Indische Buurt</td>\n",
              "      <td>52.36575</td>\n",
              "      <td>4.94142</td>\n",
              "      <td>Private room</td>\n",
              "      <td>59</td>\n",
              "      <td>3</td>\n",
              "      <td>278</td>\n",
              "      <td>2020-02-14</td>\n",
              "      <td>1</td>\n",
              "      <td>169</td>\n",
              "      <td>109.421504</td>\n",
              "      <td>135.101163</td>\n",
              "      <td>1</td>\n",
              "    </tr>\n",
              "    <tr>\n",
              "      <th>1</th>\n",
              "      <td>20168</td>\n",
              "      <td>59484</td>\n",
              "      <td>Alexander</td>\n",
              "      <td>Centrum-Oost</td>\n",
              "      <td>52.36509</td>\n",
              "      <td>4.89354</td>\n",
              "      <td>Private room</td>\n",
              "      <td>100</td>\n",
              "      <td>1</td>\n",
              "      <td>340</td>\n",
              "      <td>2020-04-09</td>\n",
              "      <td>2</td>\n",
              "      <td>106</td>\n",
              "      <td>109.421504</td>\n",
              "      <td>190.534247</td>\n",
              "      <td>1</td>\n",
              "    </tr>\n",
              "    <tr>\n",
              "      <th>2</th>\n",
              "      <td>25428</td>\n",
              "      <td>56142</td>\n",
              "      <td>Joan</td>\n",
              "      <td>Centrum-West</td>\n",
              "      <td>52.37297</td>\n",
              "      <td>4.88339</td>\n",
              "      <td>Entire home/apt</td>\n",
              "      <td>125</td>\n",
              "      <td>14</td>\n",
              "      <td>5</td>\n",
              "      <td>2020-02-09</td>\n",
              "      <td>1</td>\n",
              "      <td>132</td>\n",
              "      <td>169.179967</td>\n",
              "      <td>203.653397</td>\n",
              "      <td>3</td>\n",
              "    </tr>\n",
              "    <tr>\n",
              "      <th>3</th>\n",
              "      <td>27886</td>\n",
              "      <td>97647</td>\n",
              "      <td>Flip</td>\n",
              "      <td>Centrum-West</td>\n",
              "      <td>52.38761</td>\n",
              "      <td>4.89188</td>\n",
              "      <td>Private room</td>\n",
              "      <td>155</td>\n",
              "      <td>2</td>\n",
              "      <td>217</td>\n",
              "      <td>2020-03-02</td>\n",
              "      <td>1</td>\n",
              "      <td>172</td>\n",
              "      <td>109.421504</td>\n",
              "      <td>203.653397</td>\n",
              "      <td>1</td>\n",
              "    </tr>\n",
              "    <tr>\n",
              "      <th>4</th>\n",
              "      <td>28871</td>\n",
              "      <td>124245</td>\n",
              "      <td>Edwin</td>\n",
              "      <td>Centrum-West</td>\n",
              "      <td>52.36719</td>\n",
              "      <td>4.89092</td>\n",
              "      <td>Private room</td>\n",
              "      <td>75</td>\n",
              "      <td>2</td>\n",
              "      <td>332</td>\n",
              "      <td>2020-03-16</td>\n",
              "      <td>3</td>\n",
              "      <td>210</td>\n",
              "      <td>109.421504</td>\n",
              "      <td>203.653397</td>\n",
              "      <td>1</td>\n",
              "    </tr>\n",
              "  </tbody>\n",
              "</table>\n",
              "</div>\n",
              "      <button class=\"colab-df-convert\" onclick=\"convertToInteractive('df-0cc4c5a8-56eb-4fa0-81f9-a0c52de6fb5c')\"\n",
              "              title=\"Convert this dataframe to an interactive table.\"\n",
              "              style=\"display:none;\">\n",
              "        \n",
              "  <svg xmlns=\"http://www.w3.org/2000/svg\" height=\"24px\"viewBox=\"0 0 24 24\"\n",
              "       width=\"24px\">\n",
              "    <path d=\"M0 0h24v24H0V0z\" fill=\"none\"/>\n",
              "    <path d=\"M18.56 5.44l.94 2.06.94-2.06 2.06-.94-2.06-.94-.94-2.06-.94 2.06-2.06.94zm-11 1L8.5 8.5l.94-2.06 2.06-.94-2.06-.94L8.5 2.5l-.94 2.06-2.06.94zm10 10l.94 2.06.94-2.06 2.06-.94-2.06-.94-.94-2.06-.94 2.06-2.06.94z\"/><path d=\"M17.41 7.96l-1.37-1.37c-.4-.4-.92-.59-1.43-.59-.52 0-1.04.2-1.43.59L10.3 9.45l-7.72 7.72c-.78.78-.78 2.05 0 2.83L4 21.41c.39.39.9.59 1.41.59.51 0 1.02-.2 1.41-.59l7.78-7.78 2.81-2.81c.8-.78.8-2.07 0-2.86zM5.41 20L4 18.59l7.72-7.72 1.47 1.35L5.41 20z\"/>\n",
              "  </svg>\n",
              "      </button>\n",
              "      \n",
              "  <style>\n",
              "    .colab-df-container {\n",
              "      display:flex;\n",
              "      flex-wrap:wrap;\n",
              "      gap: 12px;\n",
              "    }\n",
              "\n",
              "    .colab-df-convert {\n",
              "      background-color: #E8F0FE;\n",
              "      border: none;\n",
              "      border-radius: 50%;\n",
              "      cursor: pointer;\n",
              "      display: none;\n",
              "      fill: #1967D2;\n",
              "      height: 32px;\n",
              "      padding: 0 0 0 0;\n",
              "      width: 32px;\n",
              "    }\n",
              "\n",
              "    .colab-df-convert:hover {\n",
              "      background-color: #E2EBFA;\n",
              "      box-shadow: 0px 1px 2px rgba(60, 64, 67, 0.3), 0px 1px 3px 1px rgba(60, 64, 67, 0.15);\n",
              "      fill: #174EA6;\n",
              "    }\n",
              "\n",
              "    [theme=dark] .colab-df-convert {\n",
              "      background-color: #3B4455;\n",
              "      fill: #D2E3FC;\n",
              "    }\n",
              "\n",
              "    [theme=dark] .colab-df-convert:hover {\n",
              "      background-color: #434B5C;\n",
              "      box-shadow: 0px 1px 3px 1px rgba(0, 0, 0, 0.15);\n",
              "      filter: drop-shadow(0px 1px 2px rgba(0, 0, 0, 0.3));\n",
              "      fill: #FFFFFF;\n",
              "    }\n",
              "  </style>\n",
              "\n",
              "      <script>\n",
              "        const buttonEl =\n",
              "          document.querySelector('#df-0cc4c5a8-56eb-4fa0-81f9-a0c52de6fb5c button.colab-df-convert');\n",
              "        buttonEl.style.display =\n",
              "          google.colab.kernel.accessAllowed ? 'block' : 'none';\n",
              "\n",
              "        async function convertToInteractive(key) {\n",
              "          const element = document.querySelector('#df-0cc4c5a8-56eb-4fa0-81f9-a0c52de6fb5c');\n",
              "          const dataTable =\n",
              "            await google.colab.kernel.invokeFunction('convertToInteractive',\n",
              "                                                     [key], {});\n",
              "          if (!dataTable) return;\n",
              "\n",
              "          const docLinkHtml = 'Like what you see? Visit the ' +\n",
              "            '<a target=\"_blank\" href=https://colab.research.google.com/notebooks/data_table.ipynb>data table notebook</a>'\n",
              "            + ' to learn more about interactive tables.';\n",
              "          element.innerHTML = '';\n",
              "          dataTable['output_type'] = 'display_data';\n",
              "          await google.colab.output.renderOutput(dataTable, element);\n",
              "          const docLink = document.createElement('div');\n",
              "          docLink.innerHTML = docLinkHtml;\n",
              "          element.appendChild(docLink);\n",
              "        }\n",
              "      </script>\n",
              "    </div>\n",
              "  </div>\n",
              "  "
            ]
          },
          "metadata": {},
          "execution_count": 42
        }
      ]
    },
    {
      "cell_type": "code",
      "source": [
        "# dropping columns not required in preparation for modeling\n",
        "# YOUR CODE HERE\n",
        "df.drop(columns=['host_id','host_name','neighbourhood','room_type','last_review'],inplace=True)\n",
        "print(df.shape)\n",
        "df.head()"
      ],
      "metadata": {
        "colab": {
          "base_uri": "https://localhost:8080/",
          "height": 287
        },
        "id": "WJXFqXvqAevp",
        "outputId": "295a96a2-9d4d-4608-9979-66fd59fb152a"
      },
      "execution_count": 43,
      "outputs": [
        {
          "output_type": "stream",
          "name": "stdout",
          "text": [
            "(17075, 11)\n"
          ]
        },
        {
          "output_type": "execute_result",
          "data": {
            "text/plain": [
              "      id  latitude  longitude  price  minimum_nights  number_of_reviews  \\\n",
              "0   2818  52.36575    4.94142     59               3                278   \n",
              "1  20168  52.36509    4.89354    100               1                340   \n",
              "2  25428  52.37297    4.88339    125              14                  5   \n",
              "3  27886  52.38761    4.89188    155               2                217   \n",
              "4  28871  52.36719    4.89092     75               2                332   \n",
              "\n",
              "   calculated_host_listings_count  availability_365  avg_price_per_room  \\\n",
              "0                               1               169          109.421504   \n",
              "1                               2               106          109.421504   \n",
              "2                               1               132          169.179967   \n",
              "3                               1               172          109.421504   \n",
              "4                               3               210          109.421504   \n",
              "\n",
              "   avg_price_per_neighbourhood  room_type_encode  \n",
              "0                   135.101163                 1  \n",
              "1                   190.534247                 1  \n",
              "2                   203.653397                 3  \n",
              "3                   203.653397                 1  \n",
              "4                   203.653397                 1  "
            ],
            "text/html": [
              "\n",
              "  <div id=\"df-0eb211d6-4146-4eac-930e-4a4c305e4587\">\n",
              "    <div class=\"colab-df-container\">\n",
              "      <div>\n",
              "<style scoped>\n",
              "    .dataframe tbody tr th:only-of-type {\n",
              "        vertical-align: middle;\n",
              "    }\n",
              "\n",
              "    .dataframe tbody tr th {\n",
              "        vertical-align: top;\n",
              "    }\n",
              "\n",
              "    .dataframe thead th {\n",
              "        text-align: right;\n",
              "    }\n",
              "</style>\n",
              "<table border=\"1\" class=\"dataframe\">\n",
              "  <thead>\n",
              "    <tr style=\"text-align: right;\">\n",
              "      <th></th>\n",
              "      <th>id</th>\n",
              "      <th>latitude</th>\n",
              "      <th>longitude</th>\n",
              "      <th>price</th>\n",
              "      <th>minimum_nights</th>\n",
              "      <th>number_of_reviews</th>\n",
              "      <th>calculated_host_listings_count</th>\n",
              "      <th>availability_365</th>\n",
              "      <th>avg_price_per_room</th>\n",
              "      <th>avg_price_per_neighbourhood</th>\n",
              "      <th>room_type_encode</th>\n",
              "    </tr>\n",
              "  </thead>\n",
              "  <tbody>\n",
              "    <tr>\n",
              "      <th>0</th>\n",
              "      <td>2818</td>\n",
              "      <td>52.36575</td>\n",
              "      <td>4.94142</td>\n",
              "      <td>59</td>\n",
              "      <td>3</td>\n",
              "      <td>278</td>\n",
              "      <td>1</td>\n",
              "      <td>169</td>\n",
              "      <td>109.421504</td>\n",
              "      <td>135.101163</td>\n",
              "      <td>1</td>\n",
              "    </tr>\n",
              "    <tr>\n",
              "      <th>1</th>\n",
              "      <td>20168</td>\n",
              "      <td>52.36509</td>\n",
              "      <td>4.89354</td>\n",
              "      <td>100</td>\n",
              "      <td>1</td>\n",
              "      <td>340</td>\n",
              "      <td>2</td>\n",
              "      <td>106</td>\n",
              "      <td>109.421504</td>\n",
              "      <td>190.534247</td>\n",
              "      <td>1</td>\n",
              "    </tr>\n",
              "    <tr>\n",
              "      <th>2</th>\n",
              "      <td>25428</td>\n",
              "      <td>52.37297</td>\n",
              "      <td>4.88339</td>\n",
              "      <td>125</td>\n",
              "      <td>14</td>\n",
              "      <td>5</td>\n",
              "      <td>1</td>\n",
              "      <td>132</td>\n",
              "      <td>169.179967</td>\n",
              "      <td>203.653397</td>\n",
              "      <td>3</td>\n",
              "    </tr>\n",
              "    <tr>\n",
              "      <th>3</th>\n",
              "      <td>27886</td>\n",
              "      <td>52.38761</td>\n",
              "      <td>4.89188</td>\n",
              "      <td>155</td>\n",
              "      <td>2</td>\n",
              "      <td>217</td>\n",
              "      <td>1</td>\n",
              "      <td>172</td>\n",
              "      <td>109.421504</td>\n",
              "      <td>203.653397</td>\n",
              "      <td>1</td>\n",
              "    </tr>\n",
              "    <tr>\n",
              "      <th>4</th>\n",
              "      <td>28871</td>\n",
              "      <td>52.36719</td>\n",
              "      <td>4.89092</td>\n",
              "      <td>75</td>\n",
              "      <td>2</td>\n",
              "      <td>332</td>\n",
              "      <td>3</td>\n",
              "      <td>210</td>\n",
              "      <td>109.421504</td>\n",
              "      <td>203.653397</td>\n",
              "      <td>1</td>\n",
              "    </tr>\n",
              "  </tbody>\n",
              "</table>\n",
              "</div>\n",
              "      <button class=\"colab-df-convert\" onclick=\"convertToInteractive('df-0eb211d6-4146-4eac-930e-4a4c305e4587')\"\n",
              "              title=\"Convert this dataframe to an interactive table.\"\n",
              "              style=\"display:none;\">\n",
              "        \n",
              "  <svg xmlns=\"http://www.w3.org/2000/svg\" height=\"24px\"viewBox=\"0 0 24 24\"\n",
              "       width=\"24px\">\n",
              "    <path d=\"M0 0h24v24H0V0z\" fill=\"none\"/>\n",
              "    <path d=\"M18.56 5.44l.94 2.06.94-2.06 2.06-.94-2.06-.94-.94-2.06-.94 2.06-2.06.94zm-11 1L8.5 8.5l.94-2.06 2.06-.94-2.06-.94L8.5 2.5l-.94 2.06-2.06.94zm10 10l.94 2.06.94-2.06 2.06-.94-2.06-.94-.94-2.06-.94 2.06-2.06.94z\"/><path d=\"M17.41 7.96l-1.37-1.37c-.4-.4-.92-.59-1.43-.59-.52 0-1.04.2-1.43.59L10.3 9.45l-7.72 7.72c-.78.78-.78 2.05 0 2.83L4 21.41c.39.39.9.59 1.41.59.51 0 1.02-.2 1.41-.59l7.78-7.78 2.81-2.81c.8-.78.8-2.07 0-2.86zM5.41 20L4 18.59l7.72-7.72 1.47 1.35L5.41 20z\"/>\n",
              "  </svg>\n",
              "      </button>\n",
              "      \n",
              "  <style>\n",
              "    .colab-df-container {\n",
              "      display:flex;\n",
              "      flex-wrap:wrap;\n",
              "      gap: 12px;\n",
              "    }\n",
              "\n",
              "    .colab-df-convert {\n",
              "      background-color: #E8F0FE;\n",
              "      border: none;\n",
              "      border-radius: 50%;\n",
              "      cursor: pointer;\n",
              "      display: none;\n",
              "      fill: #1967D2;\n",
              "      height: 32px;\n",
              "      padding: 0 0 0 0;\n",
              "      width: 32px;\n",
              "    }\n",
              "\n",
              "    .colab-df-convert:hover {\n",
              "      background-color: #E2EBFA;\n",
              "      box-shadow: 0px 1px 2px rgba(60, 64, 67, 0.3), 0px 1px 3px 1px rgba(60, 64, 67, 0.15);\n",
              "      fill: #174EA6;\n",
              "    }\n",
              "\n",
              "    [theme=dark] .colab-df-convert {\n",
              "      background-color: #3B4455;\n",
              "      fill: #D2E3FC;\n",
              "    }\n",
              "\n",
              "    [theme=dark] .colab-df-convert:hover {\n",
              "      background-color: #434B5C;\n",
              "      box-shadow: 0px 1px 3px 1px rgba(0, 0, 0, 0.15);\n",
              "      filter: drop-shadow(0px 1px 2px rgba(0, 0, 0, 0.3));\n",
              "      fill: #FFFFFF;\n",
              "    }\n",
              "  </style>\n",
              "\n",
              "      <script>\n",
              "        const buttonEl =\n",
              "          document.querySelector('#df-0eb211d6-4146-4eac-930e-4a4c305e4587 button.colab-df-convert');\n",
              "        buttonEl.style.display =\n",
              "          google.colab.kernel.accessAllowed ? 'block' : 'none';\n",
              "\n",
              "        async function convertToInteractive(key) {\n",
              "          const element = document.querySelector('#df-0eb211d6-4146-4eac-930e-4a4c305e4587');\n",
              "          const dataTable =\n",
              "            await google.colab.kernel.invokeFunction('convertToInteractive',\n",
              "                                                     [key], {});\n",
              "          if (!dataTable) return;\n",
              "\n",
              "          const docLinkHtml = 'Like what you see? Visit the ' +\n",
              "            '<a target=\"_blank\" href=https://colab.research.google.com/notebooks/data_table.ipynb>data table notebook</a>'\n",
              "            + ' to learn more about interactive tables.';\n",
              "          element.innerHTML = '';\n",
              "          dataTable['output_type'] = 'display_data';\n",
              "          await google.colab.output.renderOutput(dataTable, element);\n",
              "          const docLink = document.createElement('div');\n",
              "          docLink.innerHTML = docLinkHtml;\n",
              "          element.appendChild(docLink);\n",
              "        }\n",
              "      </script>\n",
              "    </div>\n",
              "  </div>\n",
              "  "
            ]
          },
          "metadata": {},
          "execution_count": 43
        }
      ]
    },
    {
      "cell_type": "markdown",
      "metadata": {
        "id": "l1ciT2WtBiVv"
      },
      "source": [
        "# <font color='#2F4F4F'>4. Data Modeling</font>"
      ]
    },
    {
      "cell_type": "code",
      "metadata": {
        "id": "p5etKU12BiVv"
      },
      "source": [
        "# split into features (X) and label (Y)\n",
        "# YOUR CODE HERE\n",
        "X = df.drop('price',axis=1).values\n",
        "y = df['price'].values"
      ],
      "execution_count": 44,
      "outputs": []
    },
    {
      "cell_type": "code",
      "metadata": {
        "id": "6HBMvY_IBiVy",
        "colab": {
          "base_uri": "https://localhost:8080/"
        },
        "outputId": "f72204dd-d32b-4e5b-9100-b2af9fb07630"
      },
      "source": [
        "# split into 70-30 train and test sets\n",
        "# YOUR CODE HERE\n",
        "from sklearn.model_selection import train_test_split\n",
        "X_train, X_test, y_train, y_test = train_test_split(X, y, test_size = 0.3, random_state = 1)\n",
        "\n",
        "#confirm size of datasets\n",
        "print(df.shape)\n",
        "print(X_train.shape)\n",
        "print(X_test.shape)\n",
        "print(y_train.shape)\n",
        "print(y_test.shape)"
      ],
      "execution_count": 45,
      "outputs": [
        {
          "output_type": "stream",
          "name": "stdout",
          "text": [
            "(17075, 11)\n",
            "(11952, 10)\n",
            "(5123, 10)\n",
            "(11952,)\n",
            "(5123,)\n"
          ]
        }
      ]
    },
    {
      "cell_type": "code",
      "metadata": {
        "id": "FYjh75alBiV0"
      },
      "source": [
        "# scaling our features\n",
        "\n",
        "from sklearn.preprocessing import StandardScaler\n",
        "scaler = StandardScaler()\n",
        "scaler.fit(X_train)\n",
        "X_train = scaler.transform(X_train)\n",
        "X_test = scaler.transform(X_test)"
      ],
      "execution_count": 46,
      "outputs": []
    },
    {
      "cell_type": "markdown",
      "metadata": {
        "id": "hxoyP6JvBiV3"
      },
      "source": [
        "For purposes of simplicity, we will work with the following regressors:\n",
        "* Decision Tree Regressor\n",
        "* Random Forest Regressor"
      ]
    },
    {
      "cell_type": "markdown",
      "source": [
        "We will work with the following regressors:\n",
        "\n",
        "Decision Tree Regressor\n",
        "Random Forest Regressor"
      ],
      "metadata": {
        "id": "gEpANaDLAv-z"
      }
    },
    {
      "cell_type": "markdown",
      "metadata": {
        "id": "es4RooNMBiV4"
      },
      "source": [
        "## 4.1 Normal Modeling"
      ]
    },
    {
      "cell_type": "code",
      "metadata": {
        "id": "9oqDHFgQBiV4",
        "colab": {
          "base_uri": "https://localhost:8080/"
        },
        "outputId": "7e1a9544-3c9c-4748-ef45-b7a0b57f4582"
      },
      "source": [
        "# loading our regressors\n",
        "\n",
        "from sklearn.tree import DecisionTreeRegressor\n",
        "from sklearn.ensemble import RandomForestRegressor\n",
        "\n",
        "# import the scoring metrics\n",
        "from sklearn.metrics import mean_squared_error, r2_score\n",
        "\n",
        "# instantiating our regressors\n",
        "\n",
        "dt_model = DecisionTreeRegressor(random_state=1)\n",
        "rf_model = RandomForestRegressor(random_state=1)\n",
        "\n",
        "# fitting to our training data\n",
        "\n",
        "dt_model.fit(X_train, y_train)\n",
        "rf_model.fit(X_train, y_train)\n",
        "\n",
        "# making predictions\n",
        "\n",
        "dt_pred = dt_model.predict(X_test)\n",
        "rf_pred = rf_model.predict(X_test)\n",
        "\n",
        "# evaluating the RMSE and R2 scores\n",
        "# calculate RMSE\n",
        "dt_rmse = np.sqrt(mean_squared_error(y_test,dt_pred))\n",
        "rf_rmse = np.sqrt(mean_squared_error(y_test,rf_pred))\n",
        "print('Decision Tree RMSE:', dt_rmse)\n",
        "print('Random Forest RMSE:', rf_rmse)\n",
        "\n",
        "# calculate R2 Score\n",
        "dt_r2 = r2_score(y_test,dt_pred)\n",
        "rf_r2 = r2_score(y_test,rf_pred)\n",
        "print('Decision Tree R2 Score:', dt_r2)\n",
        "print('Random Forest R2 Score:', rf_r2)"
      ],
      "execution_count": 49,
      "outputs": [
        {
          "output_type": "stream",
          "name": "stdout",
          "text": [
            "Decision Tree RMSE: 179.7519100605275\n",
            "Random Forest RMSE: 156.1687116005595\n",
            "Decision Tree R2 Score: -0.4446962971443218\n",
            "Random Forest R2 Score: -0.09047970303692954\n"
          ]
        }
      ]
    },
    {
      "cell_type": "markdown",
      "source": [
        "** R2 score is far from 1 hence this models need improvement\n",
        "\n",
        "** Random forest has a lower RMSE hence a better fit"
      ],
      "metadata": {
        "id": "eyso0FlRBCy2"
      }
    },
    {
      "cell_type": "code",
      "metadata": {
        "id": "ePws3a5SBiV8",
        "colab": {
          "base_uri": "https://localhost:8080/"
        },
        "outputId": "d764ec92-f303-4454-dbcd-c79870c621d6"
      },
      "source": [
        "# 10% of target variable's mean\n",
        "\n",
        "\n",
        "mean_price = y.mean()\n",
        "mean_price * 0.1"
      ],
      "execution_count": 50,
      "outputs": [
        {
          "output_type": "execute_result",
          "data": {
            "text/plain": [
              "15.788029282576867"
            ]
          },
          "metadata": {},
          "execution_count": 50
        }
      ]
    },
    {
      "cell_type": "markdown",
      "metadata": {
        "id": "dvgQU_reBiV_"
      },
      "source": [
        "Both models give an RMSE that is lower than 10% of the mean price indicating lower accuracy."
      ]
    },
    {
      "cell_type": "markdown",
      "metadata": {
        "id": "Vk7x7utuBiV_"
      },
      "source": [
        "## 4.2 Modeling with Grid Search"
      ]
    },
    {
      "cell_type": "code",
      "metadata": {
        "id": "QPm9K21BBiWA",
        "colab": {
          "base_uri": "https://localhost:8080/"
        },
        "outputId": "f9f51682-0dfb-402d-a3f5-73104982885c"
      },
      "source": [
        "# setting our grid parameters\n",
        "\n",
        "from sklearn.model_selection import GridSearchCV\n",
        "dt_model = DecisionTreeRegressor(random_state=42)\n",
        "rf_model = RandomForestRegressor(random_state=42)\n",
        "\n",
        "# grid parameters for decision trees\n",
        "dt_grid_param = {\n",
        "    'max_depth': [10, 20, 30, 40, 50, None],\n",
        "    'min_samples_leaf': [10, 20, 30, 40, 50]\n",
        "}\n",
        "\n",
        "# grid parameters for random forest\n",
        "rf_grid_param = {\n",
        "    'max_depth': [10, 20, 30, 40, 50,None],\n",
        "    \"n_estimators\": [10, 20, 30, 40, 50],\n",
        "    'min_samples_leaf': [10, 20, 30, 40, 50]\n",
        "}\n",
        "# setting up the Grid Search with our regressors with cv = 5 and n_jobs = -1\n",
        "# decision tree Grid Search\n",
        "gd_sr_dt = GridSearchCV(estimator = dt_model,\n",
        "                     param_grid = dt_grid_param,\n",
        "                     scoring = ['neg_root_mean_squared_error','r2'],\n",
        "                     cv = 5,\n",
        "                     refit = 'neg_root_mean_squared_error',\n",
        "                     verbose = 2,\n",
        "                     n_jobs =-1)\n",
        "# Random forest Grid Search\n",
        "gd_sr_rf = GridSearchCV(estimator = rf_model,\n",
        "                     param_grid = rf_grid_param,\n",
        "                     scoring = ['neg_root_mean_squared_error','r2'],\n",
        "                     cv = 5,\n",
        "                     refit = 'neg_root_mean_squared_error',\n",
        "                     verbose = 2,\n",
        "                     n_jobs =-1)\n",
        "# fitting to training data\n",
        "\n",
        "gd_sr_dt.fit(X_train, y_train)\n",
        "gd_sr_rf.fit(X_train, y_train)\n",
        "\n",
        "# getting the best parameters\n",
        "best_parameters_dt = gd_sr_dt.best_params_\n",
        "best_parameters_rf = gd_sr_rf.best_params_\n",
        "print('Decision Tree Best Parameters')\n",
        "print(best_parameters_dt)\n",
        "print('Random Forest Best Parameters')\n",
        "print(best_parameters_rf)"
      ],
      "execution_count": 51,
      "outputs": [
        {
          "output_type": "stream",
          "name": "stdout",
          "text": [
            "Fitting 5 folds for each of 30 candidates, totalling 150 fits\n",
            "Fitting 5 folds for each of 150 candidates, totalling 750 fits\n",
            "Decision Tree Best Parameters\n",
            "{'max_depth': 10, 'min_samples_leaf': 50}\n",
            "Random Forest Best Parameters\n",
            "{'max_depth': 10, 'min_samples_leaf': 10, 'n_estimators': 10}\n"
          ]
        }
      ]
    },
    {
      "cell_type": "code",
      "source": [
        "# get the score for decision tree\n",
        "best_result_dt = gd_sr_dt.best_score_\n",
        "print(best_result_dt)"
      ],
      "metadata": {
        "colab": {
          "base_uri": "https://localhost:8080/"
        },
        "id": "oLZaWkICBicE",
        "outputId": "eb93af34-a2d1-4103-f6ba-80bf59aa4a15"
      },
      "execution_count": 62,
      "outputs": [
        {
          "output_type": "stream",
          "name": "stdout",
          "text": [
            "-149.30996737098582\n"
          ]
        }
      ]
    },
    {
      "cell_type": "markdown",
      "source": [
        "The RMSE from decision tree reduced from 183.24 to 149."
      ],
      "metadata": {
        "id": "c8pYPn6oBnIE"
      }
    },
    {
      "cell_type": "code",
      "source": [
        "# get the score for random forest\n",
        "best_result_rf = gd_sr_rf.best_score_\n",
        "print(best_result_rf)"
      ],
      "metadata": {
        "colab": {
          "base_uri": "https://localhost:8080/"
        },
        "id": "KjxdjiT0Bkhk",
        "outputId": "a9b28434-6c7d-4d7b-e1f6-7260d1f3e530"
      },
      "execution_count": 60,
      "outputs": [
        {
          "output_type": "stream",
          "name": "stdout",
          "text": [
            "-144.55460468752764\n"
          ]
        }
      ]
    },
    {
      "cell_type": "markdown",
      "source": [
        "random forest RMSE increased slightly to 144.55"
      ],
      "metadata": {
        "id": "kNj-i6SQBsG1"
      }
    },
    {
      "cell_type": "code",
      "metadata": {
        "id": "khsTTDq0BiWD",
        "colab": {
          "base_uri": "https://localhost:8080/"
        },
        "outputId": "ba349db6-9b89-489f-be62-53bb6f845888"
      },
      "source": [
        "# implementing this recommendation\n",
        "\n",
        "# instantiating our regressors with the recommended parameters\n",
        "# YOUR CODE HERE\n",
        "dt_model = DecisionTreeRegressor(random_state=1,max_depth=10, min_samples_leaf=40)\n",
        "rf_model = RandomForestRegressor(random_state=1,max_depth=20, min_samples_leaf=50, n_estimators=20)\n",
        "\n",
        "# fitting to our training data\n",
        "# YOUR CODE HERE\n",
        "dt_model.fit(X_train, y_train)\n",
        "rf_model.fit(X_train, y_train)\n",
        "\n",
        "# making predictions\n",
        "# YOUR CODE HERE\n",
        "dt_pred = dt_model.predict(X_test)\n",
        "rf_pred = rf_model.predict(X_test)\n",
        "\n",
        "# evaluating the RMSE and R2 scores\n",
        "# YOUR CODE HERE\n",
        "# calculate RMSE\n",
        "dt_rmse = np.sqrt(mean_squared_error(y_test,dt_pred))\n",
        "rf_rmse = np.sqrt(mean_squared_error(y_test,rf_pred))\n",
        "print('Decision Tree RMSE:', dt_rmse)\n",
        "print('Random Forest RMSE:', rf_rmse)\n",
        "# calculate R2 Score\n",
        "dt_r2 = r2_score(y_test,dt_pred)\n",
        "rf_r2 = r2_score(y_test,rf_pred)\n",
        "print('Decision Tree R2 Score:', dt_r2)\n",
        "print('Random Forest R2 Score:', rf_r2)"
      ],
      "execution_count": 61,
      "outputs": [
        {
          "output_type": "stream",
          "name": "stdout",
          "text": [
            "Decision Tree RMSE: 146.74057370236878\n",
            "Random Forest RMSE: 142.65951933772624\n",
            "Decision Tree R2 Score: 0.03721357738628961\n",
            "Random Forest R2 Score: 0.09002168178832515\n"
          ]
        }
      ]
    },
    {
      "cell_type": "markdown",
      "metadata": {
        "id": "YuFQMJceBiWF"
      },
      "source": [
        "## 4.3 Modeling with Random Search"
      ]
    },
    {
      "cell_type": "code",
      "metadata": {
        "id": "Tht4XME9BiWF",
        "colab": {
          "base_uri": "https://localhost:8080/"
        },
        "outputId": "f56f707c-62e5-47a0-9241-12a0eaf9b7a1"
      },
      "source": [
        "# setting up our parameters and the respective distributions to sample from\n",
        "# YOUR CODE HERE\n",
        "from scipy.stats import randint as sp_randint\n",
        "# grid parameters for decision trees\n",
        "dt_random_param = {\n",
        "    'max_depth': [10, 20, 30, 40, 50, None],\n",
        "    'min_samples_leaf': sp_randint(1, 50)\n",
        "}\n",
        "# grid parameters for random forest\n",
        "rf_random_param = {\n",
        "    'max_depth': [10, 20, 30, 40, 50,None],\n",
        "    \"n_estimators\": sp_randint(1, 50),\n",
        "    'min_samples_leaf': sp_randint(1, 50)\n",
        "}\n",
        "\n",
        "# setting up Randomized Search for each regressor   with cv = 5\n",
        "# YOUR CODE HERE\n",
        "from sklearn.model_selection import RandomizedSearchCV \n",
        "dt_model = DecisionTreeRegressor(random_state=42)\n",
        "rf_model = RandomForestRegressor(random_state=42)\n",
        "random_dt = RandomizedSearchCV(dt_model, \n",
        "                               dt_random_param, \n",
        "                               cv = 5,\n",
        "                               scoring = ['neg_root_mean_squared_error','r2'],\n",
        "                               refit = 'neg_root_mean_squared_error',\n",
        "                               n_jobs=-1,\n",
        "                               random_state=1\n",
        "                               )\n",
        "random_rf = RandomizedSearchCV(rf_model,                                \n",
        "                               rf_random_param, \n",
        "                               cv = 5,\n",
        "                               scoring = ['neg_root_mean_squared_error','r2'],\n",
        "                               refit = 'neg_root_mean_squared_error',\n",
        "                               n_jobs=-1,\n",
        "                               random_state=1\n",
        "                               )\n",
        "# fitting to training data\n",
        "# YOUR CODE HERE\n",
        "random_dt.fit(X_train, y_train)\n",
        "random_rf.fit(X_train, y_train)\n",
        "\n",
        "# getting the best parameters\n",
        "# YOUR CODE HERE\n",
        "best_parameters_dt = random_dt.best_params_\n",
        "print('Decision Tree Best Parameters (Random Search): ',best_parameters_dt)\n",
        "\n",
        "best_parameters_rf = random_rf.best_params_\n",
        "print('Random Forest Best Parameters (Random Search): ',best_parameters_rf)\n",
        "\n",
        "# And lastly obtaining our accuracy\n",
        "best_result_dt = random_dt.best_score_\n",
        "print('Decision Tree Accuracy (Random Search): ',best_result_dt)\n",
        "\n",
        "best_result_rf = random_rf.best_score_\n",
        "print('Random Forest Accuracy (Random Search): ',best_result_rf)"
      ],
      "execution_count": 63,
      "outputs": [
        {
          "output_type": "stream",
          "name": "stdout",
          "text": [
            "Decision Tree Best Parameters (Random Search):  {'max_depth': None, 'min_samples_leaf': 44}\n",
            "Random Forest Best Parameters (Random Search):  {'max_depth': 10, 'min_samples_leaf': 2, 'n_estimators': 13}\n",
            "Decision Tree Accuracy (Random Search):  -150.07364512996918\n",
            "Random Forest Accuracy (Random Search):  -143.37683328881448\n"
          ]
        }
      ]
    },
    {
      "cell_type": "code",
      "metadata": {
        "id": "oc55zVBiBiWI",
        "colab": {
          "base_uri": "https://localhost:8080/"
        },
        "outputId": "e1918199-2368-4dca-d5a2-76b124e14cce"
      },
      "source": [
        "# implementing this recommendation\n",
        "\n",
        "# instantiating our regressors using the recommended parameters\n",
        "# instantiating our regressors with the recommended parameters\n",
        "# YOUR CODE HERE\n",
        "dt_model = DecisionTreeRegressor(random_state=1,max_depth=None, min_samples_leaf=44)\n",
        "rf_model = RandomForestRegressor(random_state=1,max_depth=50, min_samples_leaf=43, n_estimators=29)\n",
        "\n",
        "# fitting to our training data\n",
        "# YOUR CODE HERE\n",
        "dt_model.fit(X_train, y_train)\n",
        "rf_model.fit(X_train, y_train)\n",
        "\n",
        "# making predictions\n",
        "# YOUR CODE HERE\n",
        "dt_pred = dt_model.predict(X_test)\n",
        "rf_pred = rf_model.predict(X_test)\n",
        "\n",
        "# evaluating the RMSE and R2 scores\n",
        "# YOUR CODE HERE\n",
        "# calculate RMSE\n",
        "dt_rmse = np.sqrt(mean_squared_error(y_test,dt_pred))\n",
        "rf_rmse = np.sqrt(mean_squared_error(y_test,rf_pred))\n",
        "print('Decision Tree RMSE after Random Search:', dt_rmse)\n",
        "print('Random Forest RMSE after Random Search:', rf_rmse)\n",
        "\n",
        "# calculate R2 Score\n",
        "dt_r2 = r2_score(y_test,dt_pred)\n",
        "rf_r2 = r2_score(y_test,rf_pred)\n",
        "print('Decision Tree R2 Score after Random Search:', dt_r2)\n",
        "print('Random Forest R2 Score after Random Search:', rf_r2)"
      ],
      "execution_count": 64,
      "outputs": [
        {
          "output_type": "stream",
          "name": "stdout",
          "text": [
            "Decision Tree RMSE after Random Search: 146.03756150517378\n",
            "Random Forest RMSE after Random Search: 142.761606610005\n",
            "Decision Tree R2 Score after Random Search: 0.04641661150608367\n",
            "Random Forest R2 Score after Random Search: 0.08871885329949625\n"
          ]
        }
      ]
    },
    {
      "cell_type": "markdown",
      "metadata": {
        "id": "H4FCkA4HBiWN"
      },
      "source": [
        "## 4.4 Modeling with Bayesian Optimization"
      ]
    },
    {
      "cell_type": "code",
      "metadata": {
        "id": "17VcumC_BiWO",
        "colab": {
          "base_uri": "https://localhost:8080/"
        },
        "outputId": "3766a331-361b-49b6-a968-ea3abffe154a"
      },
      "source": [
        "# importing the hyperopt library and cross_val_score\n",
        "# YOUR CODE HERE\n",
        "from hyperopt import hp, fmin, tpe, STATUS_OK\n",
        "\n",
        "# setting up a space dictionary\n",
        "# YOUR CODE HERE\n",
        "dt_space = {'max_depth': hp.quniform('max_depth', 10, 1200, 10), \n",
        "        'min_samples_leaf': hp.uniform ('min_samples_leaf', 0, 0.5)}\n",
        "def dt_objective(space): \n",
        "    model = DecisionTreeRegressor(max_depth = space['max_depth'],\n",
        "                                 min_samples_leaf = space['min_samples_leaf'])\n",
        "    # print(classifier)\n",
        "    model.fit(X_train, y_train) \n",
        "    y_pred = model.predict(X_test) \n",
        "    rmse = np.sqrt(mean_squared_error(y_test,y_pred=y_pred))\n",
        "    # We aim to maximize accuracy; in this case we return it as a negative value\n",
        "    return {'loss': -rmse, 'status': STATUS_OK }\n",
        "\n",
        "# 3. Running our bayesian optimizer\n",
        "# ---\n",
        "#\n",
        "best_dt = fmin(fn= dt_objective,                        # the objective function to miminize / the loss function to minimize\n",
        "            space = dt_space,                        # the range of input values to test during optimisation\n",
        "            algo= tpe.suggest,                    # the search algorithm to use\n",
        "            max_evals = 80,                       # the no. of iteration to perform\n",
        "            rstate=np.random.RandomState(42))     # the randomstate for reproducability / to get the same result when we run the code\n",
        "\n",
        "# printing out our outcome\n",
        "best_dt"
      ],
      "execution_count": 65,
      "outputs": [
        {
          "output_type": "stream",
          "name": "stdout",
          "text": [
            "100%|██████████| 80/80 [00:04<00:00, 17.89it/s, best loss: -155.13285240963924]\n"
          ]
        },
        {
          "output_type": "execute_result",
          "data": {
            "text/plain": [
              "{'max_depth': 700.0, 'min_samples_leaf': 0.0010984228260685481}"
            ]
          },
          "metadata": {},
          "execution_count": 65
        }
      ]
    },
    {
      "cell_type": "code",
      "source": [
        "# importing the hyperopt library and cross_val_score\n",
        "# YOUR CODE HERE\n",
        "from hyperopt import hp, fmin, tpe, STATUS_OK\n",
        "\n",
        "# setting up a space dictionary\n",
        "# YOUR CODE HERE\n",
        "rf_space = {'max_depth': hp.quniform('max_depth', 10, 1200, 10), \n",
        "        'min_samples_leaf': hp.uniform ('min_samples_leaf', 0, 0.5),\n",
        "        \"n_estimators\": hp.choice ('n_estimators', range(10,1200))\n",
        "        }\n",
        "def rf_objective(space): \n",
        "    model = RandomForestRegressor(max_depth = space['max_depth'],\n",
        "                                 min_samples_leaf = space['min_samples_leaf'],\n",
        "                                  n_estimators = space['n_estimators'])\n",
        "    # print(classifier)\n",
        "    model.fit(X_train, y_train) \n",
        "    y_pred = model.predict(X_test) \n",
        "    rmse = np.sqrt(mean_squared_error(y_test,y_pred=y_pred))\n",
        "    # We aim to maximize accuracy; in this case we return it as a negative value\n",
        "    return {'loss': -rmse, 'status': STATUS_OK }\n",
        "# 3. Running our bayesian optimizer\n",
        "# ---\n",
        "#\n",
        "best_rf = fmin(fn= rf_objective,                        # the objective function to miminize / the loss function to minimize\n",
        "            space = rf_space,                        # the range of input values to test during optimisation\n",
        "            algo= tpe.suggest,                    # the search algorithm to use\n",
        "            max_evals = 80,                       # the no. of iteration to perform\n",
        "            rstate=np.random.RandomState(42))     # the randomstate for reproducability / to get the same result when we run the code\n",
        "\n",
        "# printing out our outcome\n",
        "best_rf"
      ],
      "metadata": {
        "colab": {
          "base_uri": "https://localhost:8080/"
        },
        "id": "2LUJTZnAC0Xl",
        "outputId": "9c164fe4-c5d4-402b-d333-9c2bd632218c"
      },
      "execution_count": 67,
      "outputs": [
        {
          "output_type": "stream",
          "name": "stdout",
          "text": [
            "100%|██████████| 80/80 [03:23<00:00,  2.54s/it, best loss: -149.5587604615619]\n"
          ]
        },
        {
          "output_type": "execute_result",
          "data": {
            "text/plain": [
              "{'max_depth': 600.0,\n",
              " 'min_samples_leaf': 0.34051956233035696,\n",
              " 'n_estimators': 36}"
            ]
          },
          "metadata": {},
          "execution_count": 67
        }
      ]
    },
    {
      "cell_type": "code",
      "metadata": {
        "id": "PMtZPGJLBiWU",
        "colab": {
          "base_uri": "https://localhost:8080/"
        },
        "outputId": "9ffbdb8b-b424-4ef8-f6f7-2a118dbeeefb"
      },
      "source": [
        "# implementing this recommendation\n",
        "\n",
        "# instantiating our regressors with the recommended parameters\n",
        "# YOUR CODE HERE\n",
        "dt_model = DecisionTreeRegressor(random_state=1,max_depth=370, min_samples_leaf=0.50)\n",
        "rf_model = RandomForestRegressor(random_state=1,max_depth=650, min_samples_leaf=0.33, n_estimators=123)\n",
        "\n",
        "# fitting to our training data\n",
        "# YOUR CODE HERE\n",
        "dt_model.fit(X_train, y_train)\n",
        "rf_model.fit(X_train, y_train)\n",
        "\n",
        "# making predictions\n",
        "# YOUR CODE HERE\n",
        "dt_pred = dt_model.predict(X_test)\n",
        "rf_pred = rf_model.predict(X_test)\n",
        "\n",
        "# evaluating the RMSE and R2 scores\n",
        "# YOUR CODE HERE\n",
        "# calculate RMSE\n",
        "dt_rmse = np.sqrt(mean_squared_error(y_test,dt_pred))\n",
        "rf_rmse = np.sqrt(mean_squared_error(y_test,rf_pred))\n",
        "print('Decision Tree RMSE after Bayesian Optimization:', dt_rmse)\n",
        "print('Random Forest RMSE after Bayesian Optimization:', rf_rmse)\n",
        "\n",
        "# calculate R2 Score\n",
        "dt_r2 = r2_score(y_test,dt_pred)\n",
        "rf_r2 = r2_score(y_test,rf_pred)\n",
        "print('Decision Tree R2 Score after Bayesian Optimization:', dt_r2)\n",
        "print('Random Forest R2 Score after Bayesian Optimization:', rf_r2)"
      ],
      "execution_count": 68,
      "outputs": [
        {
          "output_type": "stream",
          "name": "stdout",
          "text": [
            "Decision Tree RMSE after Bayesian Optimization: 149.45909990937437\n",
            "Random Forest RMSE after Bayesian Optimization: 149.5587488222559\n",
            "Decision Tree R2 Score after Bayesian Optimization: 0.0012098361716479378\n",
            "Random Forest R2 Score after Bayesian Optimization: -0.0001224551825498299\n"
          ]
        }
      ]
    },
    {
      "cell_type": "markdown",
      "metadata": {
        "id": "YFoZdpZaBiWX"
      },
      "source": [
        "# <font color='#2F4F4F'>5. Summary of Findings</font>\n",
        "\n",
        "Summarize your findings."
      ]
    },
    {
      "cell_type": "markdown",
      "source": [
        "Our best model is Random Forest that has been optimized using Random Search with an RMSE of 143.48"
      ],
      "metadata": {
        "id": "fu_Zlkg2DM4d"
      }
    },
    {
      "cell_type": "markdown",
      "metadata": {
        "id": "8l8X81g0BiWY"
      },
      "source": [
        "# <font color='#2F4F4F'>6. Recommendations</font>\n",
        "\n",
        "Provide your recommendations."
      ]
    },
    {
      "cell_type": "markdown",
      "source": [
        "The Airbnb should use random forest predictions to predict rental prices"
      ],
      "metadata": {
        "id": "BGm8Gq89DPH9"
      }
    },
    {
      "cell_type": "markdown",
      "metadata": {
        "id": "YQD7_7o8BiWZ"
      },
      "source": [
        "# <font color='#2F4F4F'>7. Challenging your Solution</font>\n",
        "\n",
        "### a) Did we have the right question? yes\n",
        "\n",
        "### b) Did we have the right data? yes\n",
        "\n",
        "\n",
        "### c) What can be done to improve the solution?\n",
        "More hyperparameter tuning can be done on the models to improve on the performance.\n"
      ]
    }
  ]
}